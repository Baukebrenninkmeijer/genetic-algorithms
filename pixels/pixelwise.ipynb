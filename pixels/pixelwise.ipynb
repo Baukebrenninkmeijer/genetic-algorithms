{
 "cells": [
  {
   "cell_type": "code",
   "execution_count": 9,
   "metadata": {},
   "outputs": [
    {
     "name": "stdout",
     "output_type": "stream",
     "text": [
      "The autoreload extension is already loaded. To reload it, use:\n",
      "  %reload_ext autoreload\n"
     ]
    }
   ],
   "source": [
    "%matplotlib inline\n",
    "%load_ext autoreload\n",
    "%autoreload 2"
   ]
  },
  {
   "cell_type": "code",
   "execution_count": 10,
   "metadata": {},
   "outputs": [],
   "source": [
    "from __future__ import annotations\n",
    "import sys\n",
    "sys.path.append('..')\n",
    "from lib.plot import plot_iteration\n",
    "from lib.gif import create_gif\n",
    "import numpy as np\n",
    "import matplotlib.pyplot as plt\n",
    "from matplotlib import image\n",
    "plt.rcParams['figure.facecolor'] = 'white'\n",
    "\n",
    "np.set_printoptions(precision=3, suppress=True)"
   ]
  },
  {
   "cell_type": "code",
   "execution_count": 11,
   "metadata": {},
   "outputs": [
    {
     "ename": "FileNotFoundError",
     "evalue": "[Errno 2] No such file or directory: 'img/mario.png'",
     "output_type": "error",
     "traceback": [
      "\u001b[0;31m---------------------------------------------------------------------------\u001b[0m",
      "\u001b[0;31mFileNotFoundError\u001b[0m                         Traceback (most recent call last)",
      "\u001b[0;32m/var/folders/md/1vgrdf_51d37gyf599mf59tc0000gn/T/ipykernel_64599/1771437618.py\u001b[0m in \u001b[0;36m<cell line: 1>\u001b[0;34m()\u001b[0m\n\u001b[0;32m----> 1\u001b[0;31m \u001b[0mTARGET\u001b[0m \u001b[0;34m=\u001b[0m \u001b[0mimage\u001b[0m\u001b[0;34m.\u001b[0m\u001b[0mimread\u001b[0m\u001b[0;34m(\u001b[0m\u001b[0;34m'img/mario.png'\u001b[0m\u001b[0;34m)\u001b[0m\u001b[0;34m\u001b[0m\u001b[0;34m\u001b[0m\u001b[0m\n\u001b[0m\u001b[1;32m      2\u001b[0m \u001b[0mTARGET\u001b[0m \u001b[0;34m=\u001b[0m \u001b[0;34m(\u001b[0m\u001b[0mTARGET\u001b[0m\u001b[0;34m[\u001b[0m\u001b[0;34m...\u001b[0m\u001b[0;34m,\u001b[0m \u001b[0;34m:\u001b[0m\u001b[0;36m3\u001b[0m\u001b[0;34m]\u001b[0m \u001b[0;34m*\u001b[0m \u001b[0;36m256\u001b[0m\u001b[0;34m)\u001b[0m\u001b[0;34m.\u001b[0m\u001b[0mastype\u001b[0m\u001b[0;34m(\u001b[0m\u001b[0mnp\u001b[0m\u001b[0;34m.\u001b[0m\u001b[0muint8\u001b[0m\u001b[0;34m)\u001b[0m\u001b[0;34m\u001b[0m\u001b[0;34m\u001b[0m\u001b[0m\n\u001b[1;32m      3\u001b[0m \u001b[0mplt\u001b[0m\u001b[0;34m.\u001b[0m\u001b[0mimshow\u001b[0m\u001b[0;34m(\u001b[0m\u001b[0mTARGET\u001b[0m\u001b[0;34m)\u001b[0m\u001b[0;34m\u001b[0m\u001b[0;34m\u001b[0m\u001b[0m\n",
      "\u001b[0;32m~/opt/anaconda3/envs/p310/lib/python3.10/site-packages/matplotlib/image.py\u001b[0m in \u001b[0;36mimread\u001b[0;34m(fname, format)\u001b[0m\n\u001b[1;32m   1558\u001b[0m                     \u001b[0mresponse\u001b[0m \u001b[0;34m=\u001b[0m \u001b[0mio\u001b[0m\u001b[0;34m.\u001b[0m\u001b[0mBytesIO\u001b[0m\u001b[0;34m(\u001b[0m\u001b[0mresponse\u001b[0m\u001b[0;34m.\u001b[0m\u001b[0mread\u001b[0m\u001b[0;34m(\u001b[0m\u001b[0;34m)\u001b[0m\u001b[0;34m)\u001b[0m\u001b[0;34m\u001b[0m\u001b[0;34m\u001b[0m\u001b[0m\n\u001b[1;32m   1559\u001b[0m                 \u001b[0;32mreturn\u001b[0m \u001b[0mimread\u001b[0m\u001b[0;34m(\u001b[0m\u001b[0mresponse\u001b[0m\u001b[0;34m,\u001b[0m \u001b[0mformat\u001b[0m\u001b[0;34m=\u001b[0m\u001b[0mext\u001b[0m\u001b[0;34m)\u001b[0m\u001b[0;34m\u001b[0m\u001b[0;34m\u001b[0m\u001b[0m\n\u001b[0;32m-> 1560\u001b[0;31m     \u001b[0;32mwith\u001b[0m \u001b[0mimg_open\u001b[0m\u001b[0;34m(\u001b[0m\u001b[0mfname\u001b[0m\u001b[0;34m)\u001b[0m \u001b[0;32mas\u001b[0m \u001b[0mimage\u001b[0m\u001b[0;34m:\u001b[0m\u001b[0;34m\u001b[0m\u001b[0;34m\u001b[0m\u001b[0m\n\u001b[0m\u001b[1;32m   1561\u001b[0m         return (_pil_png_to_float_array(image)\n\u001b[1;32m   1562\u001b[0m                 \u001b[0;32mif\u001b[0m \u001b[0misinstance\u001b[0m\u001b[0;34m(\u001b[0m\u001b[0mimage\u001b[0m\u001b[0;34m,\u001b[0m \u001b[0mPIL\u001b[0m\u001b[0;34m.\u001b[0m\u001b[0mPngImagePlugin\u001b[0m\u001b[0;34m.\u001b[0m\u001b[0mPngImageFile\u001b[0m\u001b[0;34m)\u001b[0m \u001b[0;32melse\u001b[0m\u001b[0;34m\u001b[0m\u001b[0;34m\u001b[0m\u001b[0m\n",
      "\u001b[0;32m~/opt/anaconda3/envs/p310/lib/python3.10/site-packages/PIL/ImageFile.py\u001b[0m in \u001b[0;36m__init__\u001b[0;34m(self, fp, filename)\u001b[0m\n\u001b[1;32m    102\u001b[0m         \u001b[0;32mif\u001b[0m \u001b[0misPath\u001b[0m\u001b[0;34m(\u001b[0m\u001b[0mfp\u001b[0m\u001b[0;34m)\u001b[0m\u001b[0;34m:\u001b[0m\u001b[0;34m\u001b[0m\u001b[0;34m\u001b[0m\u001b[0m\n\u001b[1;32m    103\u001b[0m             \u001b[0;31m# filename\u001b[0m\u001b[0;34m\u001b[0m\u001b[0;34m\u001b[0m\u001b[0m\n\u001b[0;32m--> 104\u001b[0;31m             \u001b[0mself\u001b[0m\u001b[0;34m.\u001b[0m\u001b[0mfp\u001b[0m \u001b[0;34m=\u001b[0m \u001b[0mopen\u001b[0m\u001b[0;34m(\u001b[0m\u001b[0mfp\u001b[0m\u001b[0;34m,\u001b[0m \u001b[0;34m\"rb\"\u001b[0m\u001b[0;34m)\u001b[0m\u001b[0;34m\u001b[0m\u001b[0;34m\u001b[0m\u001b[0m\n\u001b[0m\u001b[1;32m    105\u001b[0m             \u001b[0mself\u001b[0m\u001b[0;34m.\u001b[0m\u001b[0mfilename\u001b[0m \u001b[0;34m=\u001b[0m \u001b[0mfp\u001b[0m\u001b[0;34m\u001b[0m\u001b[0;34m\u001b[0m\u001b[0m\n\u001b[1;32m    106\u001b[0m             \u001b[0mself\u001b[0m\u001b[0;34m.\u001b[0m\u001b[0m_exclusive_fp\u001b[0m \u001b[0;34m=\u001b[0m \u001b[0;32mTrue\u001b[0m\u001b[0;34m\u001b[0m\u001b[0;34m\u001b[0m\u001b[0m\n",
      "\u001b[0;31mFileNotFoundError\u001b[0m: [Errno 2] No such file or directory: 'img/mario.png'"
     ]
    }
   ],
   "source": [
    "TARGET = image.imread('img/mario.png')\n",
    "TARGET = (TARGET[..., :3] * 256).astype(np.uint8)\n",
    "plt.imshow(TARGET)"
   ]
  },
  {
   "cell_type": "code",
   "execution_count": 12,
   "metadata": {},
   "outputs": [
    {
     "data": {
      "text/plain": [
       "<matplotlib.image.AxesImage at 0x7fce95fd6a10>"
      ]
     },
     "execution_count": 12,
     "metadata": {},
     "output_type": "execute_result"
    },
    {
     "data": {
      "image/png": "[encoded data removed]",
      "text/plain": [
       "<Figure size 432x288 with 1 Axes>"
      ]
     },
     "metadata": {},
     "output_type": "display_data"
    }
   ],
   "source": [
    "TARGET = np.zeros(shape=(10, 10))\n",
    "TARGET[4, :] = np.array([0, 0, 0, 1, 0, 0, 1, 0, 0, 0])\n",
    "TARGET[6, :] = np.array([0, 0, 0, 1, 0, 0, 1, 0, 0, 0])\n",
    "plt.imshow(TARGET)"
   ]
  },
  {
   "cell_type": "code",
   "execution_count": 13,
   "metadata": {},
   "outputs": [],
   "source": [
    "from typing import Tuple\n",
    "\n",
    "class ImageIndividual:\n",
    "    def __init__(self, shape: Tuple, genes: np.ndarray | None = None, mutate_change: float = 0.05, mutate_prob: float = 0.2):\n",
    "        self.shape = shape\n",
    "        self.mutate_change = mutate_change\n",
    "        self.mutate_prob = mutate_prob\n",
    "        if genes is None:\n",
    "            self.genes = (np.random.rand(*shape)).astype(np.float32)\n",
    "        else:\n",
    "            self.genes = genes\n",
    "\n",
    "    def show(self):\n",
    "        plt.imshow(self.genes)\n",
    "        plt.show()\n",
    "\n",
    "    def crossover(self, other):\n",
    "        return ImageIndividual(shape=self.shape, genes=np.mean([self.genes, other.genes], axis=0))\n",
    "\n",
    "    def mutate(self):\n",
    "        if self.mutate_prob > np.random.rand():\n",
    "            self.mutation = ((np.random.rand(*self.shape) * self.mutate_change) - (self.mutate_change / 2)).astype(np.float32)\n",
    "            self.genes = np.clip(self.genes + self.mutation, a_min=0., a_max=1.)\n",
    "\n",
    "    def compute_fitness(self, target):\n",
    "        assert self.genes.dtype.name == 'float32', f'genes dtype should be float32 but found {self.genes.dtype.name}.'\n",
    "        self.fitness = ((self.genes - target)**2).sum()\n",
    "    \n",
    "    def copy(self):\n",
    "        return ImageIndividual(shape=self.shape, genes=self.genes)\n",
    "    \n",
    "    def get_image(self) -> np.ndarray:\n",
    "        return self.genes\n",
    "\n",
    "    def __repr__(self):\n",
    "        return f'{self.__class__.__name__}(shape={self.shape}, fitness={self.fitness:.1f})'\n",
    "\n",
    "ind = ImageIndividual(shape=TARGET.shape)"
   ]
  },
  {
   "cell_type": "code",
   "execution_count": 14,
   "metadata": {},
   "outputs": [
    {
     "data": {
      "image/png": "[encoded data removed]",
      "text/plain": [
       "<Figure size 432x288 with 1 Axes>"
      ]
     },
     "metadata": {},
     "output_type": "display_data"
    },
    {
     "data": {
      "text/plain": [
       "array([[ 0.005,  0.003,  0.01 , -0.01 , -0.013,  0.013, -0.018,  0.007,\n",
       "         0.018,  0.014],\n",
       "       [ 0.005, -0.024, -0.025, -0.019, -0.006, -0.015,  0.009,  0.005,\n",
       "        -0.024, -0.006]], dtype=float32)"
      ]
     },
     "execution_count": 14,
     "metadata": {},
     "output_type": "execute_result"
    }
   ],
   "source": [
    "ind = ImageIndividual(shape=TARGET.shape, mutate_prob=1)\n",
    "\n",
    "ind.mutate()\n",
    "ind.show()\n",
    "ind.mutation[:2]"
   ]
  },
  {
   "cell_type": "code",
   "execution_count": 20,
   "metadata": {},
   "outputs": [],
   "source": [
    "import random\n",
    "from itertools import permutations\n",
    "from tqdm.auto import tqdm\n",
    "from tqdm import trange\n",
    "from PIL import Image\n",
    "from IPython import display\n",
    "from IPython.display import clear_output\n",
    "from ipywidgets import Output\n",
    "import seaborn as sns\n",
    "import pandas as pd\n",
    "from pathlib import Path\n",
    "import os\n",
    "\n",
    "\n",
    "class Population:\n",
    "    def __init__(self, target: np.ndarray, popsize: int = 20, mutation_delta: float = 0.1, mutation_prob: float = 0.1, sample_top_n = 0.1, copy_top_perc=0.02,\n",
    "                 plot: bool = True, stop_threshold=0.1):\n",
    "        assert 0 < popsize < 1e10, f'Popsize is probably too big, namely: {popsize}'\n",
    "        assert 0 < mutation_prob < 1, f'Mutation chance should be in [0, 1].'\n",
    "        assert 0 < mutation_delta < 1, f'Mutation chance should be in [0, 1].'\n",
    "        assert 0 < sample_top_n < 1, f'Mutation chance should be in [0, 1].'\n",
    "        assert 0 < copy_top_perc < 1, f'Mutation chance should be in [0, 1].'\n",
    "\n",
    "        self.popsize = popsize\n",
    "        self.target = target\n",
    "        self.mutation_delta = mutation_delta\n",
    "        self.mutation_prob = mutation_prob\n",
    "        self.sample_top_n = sample_top_n\n",
    "        self.stop_threshold = stop_threshold\n",
    "        self.copy_top_perc = copy_top_perc\n",
    "        self.plot = plot\n",
    "        self.pop = [ImageIndividual(shape=self.target.shape, mutate_change=mutation_delta, mutate_prob=mutation_prob) for _ in range(popsize)]\n",
    "        self.calculate_fitness()\n",
    "        self.sort_population()\n",
    "\n",
    "    def calculate_fitness(self):\n",
    "        for i in self.pop:\n",
    "            i.compute_fitness(self.target)\n",
    "\n",
    "    def sort_population(self):\n",
    "        self.pop = sorted(self.pop, key=lambda x: x.fitness)\n",
    "\n",
    "    def crossover_pop(self):\n",
    "        pairs = list(permutations(self.pop, r=2))\n",
    "        sample_pairs = random.choices(pairs, k=self.popsize) # Sample popsize pairs out of all combinations. \n",
    "        sample_pairs += list(permutations(self.pop[:int(len(self.pop)*self.sample_top_n)], r=2))  # Sample 10% of pop out of pairs from the top 10%. \n",
    "        children = [self.pop[0].copy() for _ in range(max(int(self.copy_top_perc * len(self.pop)), 3))]  # Add 1/80 or 3 to pop, whichever is more. \n",
    "        children += [x.crossover(y) for (x, y) in sample_pairs]\n",
    "        self.pop += children\n",
    "\n",
    "    def mutate_pop(self) -> None:\n",
    "        for i in self.pop:\n",
    "            i.mutate()\n",
    "\n",
    "    def get_best(self) -> ImageIndividual:\n",
    "        return self.pop[0]\n",
    "\n",
    "    def optimize(self, epochs: int, gif: bool = False, plot_frequency: int = 20, name: str = 'default'):\n",
    "        min_loss, avg_loss = [], []\n",
    "        self.metrics = pd.DataFrame(columns=['min_loss', 'mean_loss'])\n",
    "        self.output_dir = Path(f'img/{name}')\n",
    "        self.img_dir = self.output_dir/'iters'\n",
    "        os.makedirs(self.img_dir, exist_ok=True)\n",
    "        if self.plot:\n",
    "            out = Output()\n",
    "            display.display(out)\n",
    "            # fig, ax = plt.subplots(1, 4, figsize=(20, 5))\n",
    "        max_fitness, min_fitness = 0, 10e10\n",
    "        for i in (pbar:= tqdm(range(epochs))):\n",
    "            self.crossover_pop()\n",
    "            self.mutate_pop()\n",
    "            self.calculate_fitness()\n",
    "            self.sort_population()\n",
    "            self.pop = self.pop[:self.popsize]\n",
    "            # if i % 5 == 0:\n",
    "            #     print(f'{i}. Top fitness: {self.pop[0].fitness:.1f}')\n",
    "            current_best_fitness = self.pop[0].fitness\n",
    "            if current_best_fitness < min_fitness: min_fitness = current_best_fitness\n",
    "            if current_best_fitness > max_fitness: max_fitness = current_best_fitness\n",
    "            new_metric = pd.Series({'min_loss': current_best_fitness,\n",
    "                                    'mean_loss': np.mean([x.fitness for x in self.pop]),\n",
    "                                    })\n",
    "            self.metrics.loc[i] = new_metric\n",
    "            \n",
    "            # Logging and viz.\n",
    "            pbar.set_description(f'Max: {max_fitness:.1f}, min: {min_fitness:.3f}, current: {current_best_fitness:.3f}')\n",
    "            pbar.refresh()\n",
    "            if self.plot:\n",
    "                plot_iteration(self, plot_freq=plot_frequency, out=out, min_fit=min_fitness, i=i, show=False)\n",
    "            if current_best_fitness < self.stop_threshold:\n",
    "                print('Early stopping criterion met. Stopping search and creating gif.')\n",
    "                create_gif(src_dir=self.img_dir, fp_out=self.output_dir/'training.gif')\n",
    "                break\n",
    "            \n",
    "\n",
    "    def __repr__(self):\n",
    "        return f'{self.__class__.__name__}(popsize={self.popsize}, \\n' + ', '.join(map(str, self.pop[:2] + self.pop[-2:])) + ')'\n",
    "\n",
    "\n",
    "pop = Population(popsize=5, target=TARGET)"
   ]
  },
  {
   "attachments": {},
   "cell_type": "markdown",
   "metadata": {},
   "source": [
    "## Run gridsearch experiment for suitable population and individual parameters"
   ]
  },
  {
   "cell_type": "code",
   "execution_count": null,
   "metadata": {},
   "outputs": [],
   "source": [
    "from typing import Dict, Any\n",
    "from joblib import Parallel, delayed\n",
    "from itertools import product\n",
    "import pandas as pd\n",
    "import plotly.express as px\n",
    "\n",
    "mutation_delta = [0.1, 0.2, 0.3, 0.4]\n",
    "mutation_prob = [0.1, 0.3, 0.5]\n",
    "copy_top_perc = [0.02, 0.04, 0.08]\n",
    "sample_top_n = [0.1, 0.2, 0.05]\n",
    "results = []\n",
    "\n",
    "def optimize_with_config(mutation_delta, mutation_prob, copy_top_perc, sample_top_n) -> Dict[str, Any]:\n",
    "    pop = Population(popsize=20, mutation_delta=mutation_delta, mutation_prob=mutation_prob, copy_top_perc=copy_top_perc, sample_top_n=sample_top_n, plot=False)\n",
    "    pop.optimize(epochs=400)\n",
    "    return {\n",
    "        'mutation_delta': mutation_delta, \n",
    "        'mutation_prob': mutation_prob, \n",
    "        'copy_top_perc': copy_top_perc, \n",
    "        'sample_top_n': sample_top_n, \n",
    "        'best_fitness': pop.pop[0].fitness\n",
    "        }"
   ]
  },
  {
   "cell_type": "code",
   "execution_count": null,
   "metadata": {},
   "outputs": [
    {
     "data": {
      "application/vnd.jupyter.widget-view+json": {
       "model_id": "93fc5c544eb248529785d9f939abdd27",
       "version_major": 2,
       "version_minor": 0
      },
      "text/plain": [
       "  0%|          | 0/108 [00:00<?, ?it/s]"
      ]
     },
     "metadata": {},
     "output_type": "display_data"
    },
    {
     "name": "stderr",
     "output_type": "stream",
     "text": [
      "Max: 3306770688.0, min: 3306377216.0, current: 3306377216.0: 100%|██████████| 400/400 [02:37<00:00,  2.54it/s]\n",
      "Max: 3306796032.0, min: 3306394624.0, current: 3306394624.0: 100%|██████████| 400/400 [02:38<00:00,  2.53it/s]\n",
      "Max: 3306786304.0, min: 3306388480.0, current: 3306388480.0: 100%|██████████| 400/400 [02:38<00:00,  2.53it/s]\n",
      "Max: 3306811392.0, min: 3306387712.0, current: 3306387712.0: 100%|██████████| 400/400 [02:39<00:00,  2.50it/s]\n",
      "Max: 3306772992.0, min: 3306351104.0, current: 3306351104.0: 100%|██████████| 400/400 [02:49<00:00,  2.36it/s]\n",
      "Max: 3306776576.0, min: 3306366976.0, current: 3306366976.0: 100%|██████████| 400/400 [02:49<00:00,  2.36it/s]\n",
      "Max: 3306749184.0, min: 3306306816.0, current: 3306306816.0: 100%|██████████| 400/400 [02:49<00:00,  2.35it/s]\n",
      "Max: 3306765312.0, min: 3306360832.0, current: 3306360832.0: 100%|██████████| 400/400 [02:50<00:00,  2.35it/s]\n",
      "Max: 3306756096.0, min: 3306243072.0, current: 3306243072.0: 100%|██████████| 400/400 [03:46<00:00,  1.77it/s]\n",
      "Max: 3306768896.0, min: 3306283264.0, current: 3306283264.0: 100%|██████████| 400/400 [03:46<00:00,  1.76it/s]\n",
      "Max: 3306774784.0, min: 3306267904.0, current: 3306267904.0: 100%|██████████| 400/400 [03:49<00:00,  1.74it/s]\n",
      "Max: 3306751488.0, min: 3306234880.0, current: 3306234880.0: 100%|██████████| 400/400 [03:50<00:00,  1.73it/s]\n",
      "Max: 3306777088.0, min: 3306366208.0, current: 3306366208.0: 100%|██████████| 400/400 [02:30<00:00,  2.65it/s]\n",
      "Max: 3306761472.0, min: 3306319360.0, current: 3306319360.0: 100%|██████████| 400/400 [02:44<00:00,  2.43it/s]\n",
      "Max: 3306788096.0, min: 3306392832.0, current: 3306392832.0: 100%|██████████| 400/400 [02:34<00:00,  2.59it/s]\n",
      "Max: 3306786304.0, min: 3306340608.0, current: 3306340608.0: 100%|██████████| 400/400 [02:47<00:00,  2.39it/s]\n",
      "Max: 3306760960.0, min: 3306348800.0, current: 3306348800.0: 100%|██████████| 400/400 [02:45<00:00,  2.41it/s]\n",
      "Max: 3306785024.0, min: 3306247424.0, current: 3306247424.0: 100%|██████████| 400/400 [03:45<00:00,  1.77it/s]\n",
      "Max: 3306745344.0, min: 3306384640.0, current: 3306384640.0: 100%|██████████| 400/400 [02:39<00:00,  2.51it/s]\n",
      "Max: 3306772992.0, min: 3306382336.0, current: 3306382336.0: 100%|██████████| 400/400 [02:38<00:00,  2.52it/s]\n",
      "Max: 3306792192.0, min: 3306263296.0, current: 3306263296.0: 100%|██████████| 400/400 [03:45<00:00,  1.78it/s]\n",
      "Max: 3306790144.0, min: 3306270208.0, current: 3306270208.0: 100%|██████████| 400/400 [03:47<00:00,  1.76it/s]\n",
      "Max: 3306789888.0, min: 3306343168.0, current: 3306343168.0: 100%|██████████| 400/400 [02:51<00:00,  2.33it/s]\n",
      "Max: 3306763520.0, min: 3306222336.0, current: 3306222336.0: 100%|██████████| 400/400 [03:52<00:00,  1.72it/s]\n",
      "Max: 3306786560.0, min: 3306323712.0, current: 3306323712.0: 100%|██████████| 400/400 [02:53<00:00,  2.31it/s]\n",
      "Max: 3306791424.0, min: 3306383104.0, current: 3306383104.0: 100%|██████████| 400/400 [02:38<00:00,  2.53it/s]\n",
      "Max: 3306788864.0, min: 3306364928.0, current: 3306364928.0: 100%|██████████| 400/400 [02:53<00:00,  2.31it/s]\n",
      "Max: 3306782464.0, min: 3306415104.0, current: 3306415104.0: 100%|██████████| 400/400 [02:37<00:00,  2.55it/s]\n",
      "Max: 3306786304.0, min: 3306381056.0, current: 3306381056.0: 100%|██████████| 400/400 [02:39<00:00,  2.51it/s]\n",
      "Max: 3306780672.0, min: 3306365440.0, current: 3306365440.0: 100%|██████████| 400/400 [02:50<00:00,  2.35it/s]\n",
      "Max: 3306776320.0, min: 3306281472.0, current: 3306281472.0: 100%|██████████| 400/400 [03:54<00:00,  1.70it/s]\n",
      "Max: 3306795008.0, min: 3306283776.0, current: 3306283776.0: 100%|██████████| 400/400 [03:51<00:00,  1.72it/s]\n",
      "Max: 3306747136.0, min: 3306368256.0, current: 3306368256.0: 100%|██████████| 400/400 [02:53<00:00,  2.31it/s]\n",
      "Max: 3306804736.0, min: 3306391296.0, current: 3306391296.0: 100%|██████████| 400/400 [02:41<00:00,  2.47it/s]\n",
      "Max: 3306774272.0, min: 3306242304.0, current: 3306242304.0: 100%|██████████| 400/400 [03:55<00:00,  1.70it/s]\n",
      "Max: 3306761216.0, min: 3306329344.0, current: 3306329344.0: 100%|██████████| 400/400 [03:52<00:00,  1.72it/s]\n",
      "Max: 3306774016.0, min: 3306344960.0, current: 3306344960.0: 100%|██████████| 400/400 [02:50<00:00,  2.35it/s]\n",
      "Max: 3306783488.0, min: 3306338816.0, current: 3306338816.0: 100%|██████████| 400/400 [02:37<00:00,  2.55it/s]\n",
      "Max: 3306772992.0, min: 3306341632.0, current: 3306341632.0: 100%|██████████| 400/400 [02:38<00:00,  2.53it/s]\n",
      "Max: 3306777088.0, min: 3306378752.0, current: 3306378752.0: 100%|██████████| 400/400 [02:24<00:00,  2.77it/s]\n",
      "Max: 3306765568.0, min: 3306266368.0, current: 3306266368.0: 100%|██████████| 400/400 [03:40<00:00,  1.81it/s]\n",
      "Max: 3306790144.0, min: 3306393856.0, current: 3306393856.0: 100%|██████████| 400/400 [02:21<00:00,  2.83it/s]\n",
      "Max: 3306751744.0, min: 3306329088.0, current: 3306329088.0: 100%|██████████| 400/400 [02:35<00:00,  2.57it/s]\n",
      "Max: 3306774016.0, min: 3306254592.0, current: 3306254592.0: 100%|██████████| 400/400 [03:29<00:00,  1.91it/s]\n",
      "Max: 3306777600.0, min: 3306414080.0, current: 3306414080.0: 100%|██████████| 400/400 [02:16<00:00,  2.92it/s]\n",
      "Max: 3306792192.0, min: 3306362624.0, current: 3306362624.0: 100%|██████████| 400/400 [02:31<00:00,  2.64it/s]\n",
      "Max: 3306752512.0, min: 3306301952.0, current: 3306301952.0: 100%|██████████| 400/400 [03:28<00:00,  1.92it/s]\n",
      "Max: 3306774528.0, min: 3306394368.0, current: 3306394368.0: 100%|██████████| 400/400 [02:30<00:00,  2.66it/s]\n",
      "Max: 3306774016.0, min: 3306272256.0, current: 3306272256.0: 100%|██████████| 400/400 [03:27<00:00,  1.93it/s]\n",
      "Max: 3306746624.0, min: 3306401536.0, current: 3306401536.0: 100%|██████████| 400/400 [02:27<00:00,  2.71it/s]\n",
      "Max: 3306784256.0, min: 3306333440.0, current: 3306333440.0: 100%|██████████| 400/400 [02:37<00:00,  2.54it/s]\n",
      "Max: 3306759680.0, min: 3306374144.0, current: 3306374144.0: 100%|██████████| 400/400 [02:28<00:00,  2.69it/s]\n",
      "Max: 3306763520.0, min: 3306248960.0, current: 3306248960.0: 100%|██████████| 400/400 [03:30<00:00,  1.90it/s]\n",
      "Max: 3306787328.0, min: 3306322176.0, current: 3306322176.0: 100%|██████████| 400/400 [02:39<00:00,  2.51it/s]\n",
      "Max: 3306769920.0, min: 3306372096.0, current: 3306372096.0: 100%|██████████| 400/400 [02:32<00:00,  2.63it/s]\n",
      "Max: 3306769664.0, min: 3306243584.0, current: 3306243584.0: 100%|██████████| 400/400 [03:40<00:00,  1.82it/s]\n",
      "Max: 3306779392.0, min: 3306342912.0, current: 3306342912.0: 100%|██████████| 400/400 [02:46<00:00,  2.40it/s]\n",
      "Max: 3306786816.0, min: 3306400000.0, current: 3306400000.0: 100%|██████████| 400/400 [02:35<00:00,  2.58it/s]\n",
      "Max: 3306770688.0, min: 3306275328.0, current: 3306275328.0: 100%|██████████| 400/400 [03:46<00:00,  1.77it/s]\n",
      "Max: 3306759680.0, min: 3306324480.0, current: 3306324480.0: 100%|██████████| 400/400 [02:48<00:00,  2.38it/s]\n",
      "Max: 3306757120.0, min: 3306261248.0, current: 3306261248.0: 100%|██████████| 400/400 [03:48<00:00,  1.75it/s]\n",
      "Max: 3306770432.0, min: 3306367488.0, current: 3306367488.0: 100%|██████████| 400/400 [02:39<00:00,  2.51it/s]\n",
      "Max: 3306789888.0, min: 3306393600.0, current: 3306393600.0: 100%|██████████| 400/400 [02:38<00:00,  2.52it/s]\n",
      "Max: 3306792192.0, min: 3306343424.0, current: 3306343424.0: 100%|██████████| 400/400 [02:49<00:00,  2.36it/s]\n",
      "Max: 3306750720.0, min: 3306298880.0, current: 3306298880.0: 100%|██████████| 400/400 [03:49<00:00,  1.74it/s]\n",
      "Max: 3306742528.0, min: 3306310144.0, current: 3306310144.0: 100%|██████████| 400/400 [02:51<00:00,  2.33it/s]\n",
      "Max: 3306761984.0, min: 3306365696.0, current: 3306365696.0: 100%|██████████| 400/400 [02:33<00:00,  2.60it/s]\n",
      "Max: 3306733312.0, min: 3306213632.0, current: 3306213632.0: 100%|██████████| 400/400 [03:50<00:00,  1.74it/s]\n",
      "Max: 3306734592.0, min: 3306343680.0, current: 3306343680.0: 100%|██████████| 400/400 [02:46<00:00,  2.40it/s]\n",
      "Max: 3306781952.0, min: 3306256384.0, current: 3306256384.0: 100%|██████████| 400/400 [03:45<00:00,  1.78it/s]\n",
      "Max: 3306775808.0, min: 3306441472.0, current: 3306441472.0: 100%|██████████| 400/400 [02:30<00:00,  2.66it/s]\n",
      "Max: 3306782720.0, min: 3306337024.0, current: 3306337024.0: 100%|██████████| 400/400 [02:40<00:00,  2.49it/s]\n",
      "Max: 3306773504.0, min: 3306351360.0, current: 3306351360.0: 100%|██████████| 400/400 [02:29<00:00,  2.67it/s]\n",
      "Max: 3306776320.0, min: 3306395648.0, current: 3306395648.0: 100%|██████████| 400/400 [02:38<00:00,  2.52it/s]\n",
      "Max: 3306776576.0, min: 3306258944.0, current: 3306258944.0: 100%|██████████| 400/400 [03:40<00:00,  1.82it/s]\n",
      "Max: 3306760448.0, min: 3306228736.0, current: 3306228736.0: 100%|██████████| 400/400 [03:41<00:00,  1.81it/s]\n",
      "Max: 3306798336.0, min: 3306376448.0, current: 3306376448.0: 100%|██████████| 400/400 [02:27<00:00,  2.71it/s]\n",
      "Max: 3306784512.0, min: 3306355968.0, current: 3306355968.0: 100%|██████████| 400/400 [02:40<00:00,  2.50it/s]\n",
      "Max: 3306786304.0, min: 3306404352.0, current: 3306404352.0: 100%|██████████| 400/400 [02:28<00:00,  2.69it/s]\n",
      "Max: 3306776832.0, min: 3306228992.0, current: 3306228992.0: 100%|██████████| 400/400 [03:39<00:00,  1.83it/s]\n",
      "Max: 3306746368.0, min: 3306314752.0, current: 3306314752.0: 100%|██████████| 400/400 [02:40<00:00,  2.49it/s]\n",
      "Max: 3306785536.0, min: 3306395136.0, current: 3306395136.0: 100%|██████████| 400/400 [02:31<00:00,  2.65it/s]\n",
      "Max: 3306749184.0, min: 3306257920.0, current: 3306257920.0: 100%|██████████| 400/400 [03:38<00:00,  1.83it/s]\n",
      "Max: 3306778368.0, min: 3306366720.0, current: 3306366720.0: 100%|██████████| 400/400 [02:48<00:00,  2.38it/s]\n",
      "Max: 3306787072.0, min: 3306397184.0, current: 3306397184.0: 100%|██████████| 400/400 [02:39<00:00,  2.51it/s]\n",
      "Max: 3306775296.0, min: 3306246144.0, current: 3306246144.0: 100%|██████████| 400/400 [03:47<00:00,  1.76it/s]\n",
      "Max: 3306745344.0, min: 3306381568.0, current: 3306381568.0: 100%|██████████| 400/400 [02:48<00:00,  2.37it/s]\n",
      "Max: 3306775296.0, min: 3306392064.0, current: 3306392064.0: 100%|██████████| 400/400 [02:37<00:00,  2.55it/s]\n",
      "Max: 3306785280.0, min: 3306246400.0, current: 3306246400.0: 100%|██████████| 400/400 [03:45<00:00,  1.78it/s]\n",
      "Max: 3306773248.0, min: 3306331648.0, current: 3306331648.0: 100%|██████████| 400/400 [02:48<00:00,  2.37it/s]\n",
      "Max: 3306752512.0, min: 3306411776.0, current: 3306411776.0: 100%|██████████| 400/400 [02:36<00:00,  2.56it/s]\n",
      "Max: 3306789120.0, min: 3306266368.0, current: 3306266368.0: 100%|██████████| 400/400 [03:46<00:00,  1.77it/s]\n",
      "Max: 3306752768.0, min: 3306339840.0, current: 3306339840.0: 100%|██████████| 400/400 [02:48<00:00,  2.37it/s]\n",
      "Max: 3306771968.0, min: 3306380544.0, current: 3306380544.0: 100%|██████████| 400/400 [02:30<00:00,  2.65it/s]\n",
      "Max: 3306750464.0, min: 3306244352.0, current: 3306244352.0: 100%|██████████| 400/400 [03:47<00:00,  1.76it/s]\n",
      "Max: 3306769408.0, min: 3306361856.0, current: 3306361856.0: 100%|██████████| 400/400 [02:43<00:00,  2.45it/s]\n",
      "Max: 3306768384.0, min: 3306243072.0, current: 3306243072.0: 100%|██████████| 400/400 [03:51<00:00,  1.73it/s]\n",
      "Max: 3306736640.0, min: 3306386688.0, current: 3306386688.0: 100%|██████████| 400/400 [02:35<00:00,  2.57it/s]\n",
      "Max: 3306785024.0, min: 3306359552.0, current: 3306359552.0: 100%|██████████| 400/400 [02:46<00:00,  2.40it/s]\n",
      "Max: 3306769152.0, min: 3306387200.0, current: 3306387200.0: 100%|██████████| 400/400 [02:31<00:00,  2.64it/s]\n",
      "Max: 3306783488.0, min: 3306253056.0, current: 3306253056.0: 100%|██████████| 400/400 [03:37<00:00,  1.84it/s]\n",
      "Max: 3306783232.0, min: 3306375680.0, current: 3306375680.0: 100%|██████████| 400/400 [02:28<00:00,  2.70it/s]\n",
      "Max: 3306750208.0, min: 3306286336.0, current: 3306286336.0: 100%|██████████| 400/400 [03:21<00:00,  1.98it/s]\n",
      "Max: 3306745856.0, min: 3306370304.0, current: 3306370304.0: 100%|██████████| 400/400 [02:12<00:00,  3.02it/s]\n",
      "Max: 3306793984.0, min: 3306356224.0, current: 3306356224.0: 100%|██████████| 400/400 [02:04<00:00,  3.20it/s]\n",
      "Max: 3306768896.0, min: 3306365440.0, current: 3306365440.0: 100%|██████████| 400/400 [01:37<00:00,  4.10it/s]\n",
      "Max: 3306764032.0, min: 3306234880.0, current: 3306234880.0: 100%|██████████| 400/400 [02:45<00:00,  2.42it/s]\n",
      "Max: 3306784000.0, min: 3306269696.0, current: 3306269696.0: 100%|██████████| 400/400 [01:55<00:00,  3.45it/s]\n"
     ]
    },
    {
     "data": {
      "text/plain": [
       "[]"
      ]
     },
     "metadata": {},
     "output_type": "display_data"
    }
   ],
   "source": [
    "param_combinations = list(product(mutation_delta, mutation_prob, copy_top_perc, sample_top_n))\n",
    "result = Parallel(n_jobs=-1)(delayed(optimize_with_config)(mdelta, mprob, topp, topn) for mdelta, mprob, topp, topn in tqdm(param_combinations, total=len(param_combinations)))\n",
    "results_df = pd.DataFrame(result)\n",
    "results_df.to_parquet('grid_search_results.parquet')\n",
    "results_df.head()"
   ]
  },
  {
   "cell_type": "code",
   "execution_count": null,
   "metadata": {},
   "outputs": [
    {
     "data": {
      "text/html": [
       "<div>\n",
       "<style scoped>\n",
       "    .dataframe tbody tr th:only-of-type {\n",
       "        vertical-align: middle;\n",
       "    }\n",
       "\n",
       "    .dataframe tbody tr th {\n",
       "        vertical-align: top;\n",
       "    }\n",
       "\n",
       "    .dataframe thead th {\n",
       "        text-align: right;\n",
       "    }\n",
       "</style>\n",
       "<table border=\"1\" class=\"dataframe\">\n",
       "  <thead>\n",
       "    <tr style=\"text-align: right;\">\n",
       "      <th></th>\n",
       "      <th>mutation_delta</th>\n",
       "      <th>mutation_prob</th>\n",
       "      <th>copy_top_perc</th>\n",
       "      <th>sample_top_n</th>\n",
       "      <th>best_fitness</th>\n",
       "    </tr>\n",
       "  </thead>\n",
       "  <tbody>\n",
       "    <tr>\n",
       "      <th>64</th>\n",
       "      <td>0.3</td>\n",
       "      <td>0.3</td>\n",
       "      <td>0.02</td>\n",
       "      <td>0.20</td>\n",
       "      <td>3.306214e+09</td>\n",
       "    </tr>\n",
       "    <tr>\n",
       "      <th>22</th>\n",
       "      <td>0.1</td>\n",
       "      <td>0.5</td>\n",
       "      <td>0.04</td>\n",
       "      <td>0.20</td>\n",
       "      <td>3.306222e+09</td>\n",
       "    </tr>\n",
       "    <tr>\n",
       "      <th>73</th>\n",
       "      <td>0.3</td>\n",
       "      <td>0.5</td>\n",
       "      <td>0.02</td>\n",
       "      <td>0.20</td>\n",
       "      <td>3.306229e+09</td>\n",
       "    </tr>\n",
       "    <tr>\n",
       "      <th>76</th>\n",
       "      <td>0.3</td>\n",
       "      <td>0.5</td>\n",
       "      <td>0.04</td>\n",
       "      <td>0.20</td>\n",
       "      <td>3.306229e+09</td>\n",
       "    </tr>\n",
       "    <tr>\n",
       "      <th>1</th>\n",
       "      <td>0.1</td>\n",
       "      <td>0.1</td>\n",
       "      <td>0.02</td>\n",
       "      <td>0.20</td>\n",
       "      <td>3.306235e+09</td>\n",
       "    </tr>\n",
       "    <tr>\n",
       "      <th>...</th>\n",
       "      <td>...</td>\n",
       "      <td>...</td>\n",
       "      <td>...</td>\n",
       "      <td>...</td>\n",
       "      <td>...</td>\n",
       "    </tr>\n",
       "    <tr>\n",
       "      <th>80</th>\n",
       "      <td>0.3</td>\n",
       "      <td>0.5</td>\n",
       "      <td>0.08</td>\n",
       "      <td>0.05</td>\n",
       "      <td>3.306404e+09</td>\n",
       "    </tr>\n",
       "    <tr>\n",
       "      <th>92</th>\n",
       "      <td>0.4</td>\n",
       "      <td>0.3</td>\n",
       "      <td>0.02</td>\n",
       "      <td>0.05</td>\n",
       "      <td>3.306412e+09</td>\n",
       "    </tr>\n",
       "    <tr>\n",
       "      <th>47</th>\n",
       "      <td>0.2</td>\n",
       "      <td>0.5</td>\n",
       "      <td>0.02</td>\n",
       "      <td>0.05</td>\n",
       "      <td>3.306414e+09</td>\n",
       "    </tr>\n",
       "    <tr>\n",
       "      <th>29</th>\n",
       "      <td>0.2</td>\n",
       "      <td>0.1</td>\n",
       "      <td>0.02</td>\n",
       "      <td>0.05</td>\n",
       "      <td>3.306415e+09</td>\n",
       "    </tr>\n",
       "    <tr>\n",
       "      <th>71</th>\n",
       "      <td>0.3</td>\n",
       "      <td>0.3</td>\n",
       "      <td>0.08</td>\n",
       "      <td>0.05</td>\n",
       "      <td>3.306441e+09</td>\n",
       "    </tr>\n",
       "  </tbody>\n",
       "</table>\n",
       "<p>108 rows × 5 columns</p>\n",
       "</div>"
      ],
      "text/plain": [
       "    mutation_delta  mutation_prob  copy_top_perc  sample_top_n  best_fitness\n",
       "64             0.3            0.3           0.02          0.20  3.306214e+09\n",
       "22             0.1            0.5           0.04          0.20  3.306222e+09\n",
       "73             0.3            0.5           0.02          0.20  3.306229e+09\n",
       "76             0.3            0.5           0.04          0.20  3.306229e+09\n",
       "1              0.1            0.1           0.02          0.20  3.306235e+09\n",
       "..             ...            ...            ...           ...           ...\n",
       "80             0.3            0.5           0.08          0.05  3.306404e+09\n",
       "92             0.4            0.3           0.02          0.05  3.306412e+09\n",
       "47             0.2            0.5           0.02          0.05  3.306414e+09\n",
       "29             0.2            0.1           0.02          0.05  3.306415e+09\n",
       "71             0.3            0.3           0.08          0.05  3.306441e+09\n",
       "\n",
       "[108 rows x 5 columns]"
      ]
     },
     "metadata": {},
     "output_type": "display_data"
    }
   ],
   "source": [
    "results_df = pd.read_parquet('grid_search_results.parquet')\n",
    "results_df.sort_values('best_fitness')"
   ]
  },
  {
   "cell_type": "code",
   "execution_count": null,
   "metadata": {},
   "outputs": [
    {
     "data": {
      "application/vnd.plotly.v1+json": {
       "config": {
        "plotlyServerURL": "https://plot.ly"
       },
       "data": [
        {
         "dimensions": [
          {
           "label": "mutation_delta",
           "values": [
            0.1,
            0.1,
            0.1,
            0.1,
            0.1,
            0.1,
            0.1,
            0.1,
            0.1,
            0.1,
            0.1,
            0.1,
            0.1,
            0.1,
            0.1,
            0.1,
            0.1,
            0.1,
            0.1,
            0.1,
            0.1,
            0.1,
            0.1,
            0.1,
            0.1,
            0.1,
            0.1,
            0.2,
            0.2,
            0.2,
            0.2,
            0.2,
            0.2,
            0.2,
            0.2,
            0.2,
            0.2,
            0.2,
            0.2,
            0.2,
            0.2,
            0.2,
            0.2,
            0.2,
            0.2,
            0.2,
            0.2,
            0.2,
            0.2,
            0.2,
            0.2,
            0.2,
            0.2,
            0.2,
            0.3,
            0.3,
            0.3,
            0.3,
            0.3,
            0.3,
            0.3,
            0.3,
            0.3,
            0.3,
            0.3,
            0.3,
            0.3,
            0.3,
            0.3,
            0.3,
            0.3,
            0.3,
            0.3,
            0.3,
            0.3,
            0.3,
            0.3,
            0.3,
            0.3,
            0.3,
            0.3,
            0.4,
            0.4,
            0.4,
            0.4,
            0.4,
            0.4,
            0.4,
            0.4,
            0.4,
            0.4,
            0.4,
            0.4,
            0.4,
            0.4,
            0.4,
            0.4,
            0.4,
            0.4,
            0.4,
            0.4,
            0.4,
            0.4,
            0.4,
            0.4,
            0.4,
            0.4,
            0.4
           ]
          },
          {
           "label": "mutation_prob",
           "values": [
            0.1,
            0.1,
            0.1,
            0.1,
            0.1,
            0.1,
            0.1,
            0.1,
            0.1,
            0.3,
            0.3,
            0.3,
            0.3,
            0.3,
            0.3,
            0.3,
            0.3,
            0.3,
            0.5,
            0.5,
            0.5,
            0.5,
            0.5,
            0.5,
            0.5,
            0.5,
            0.5,
            0.1,
            0.1,
            0.1,
            0.1,
            0.1,
            0.1,
            0.1,
            0.1,
            0.1,
            0.3,
            0.3,
            0.3,
            0.3,
            0.3,
            0.3,
            0.3,
            0.3,
            0.3,
            0.5,
            0.5,
            0.5,
            0.5,
            0.5,
            0.5,
            0.5,
            0.5,
            0.5,
            0.1,
            0.1,
            0.1,
            0.1,
            0.1,
            0.1,
            0.1,
            0.1,
            0.1,
            0.3,
            0.3,
            0.3,
            0.3,
            0.3,
            0.3,
            0.3,
            0.3,
            0.3,
            0.5,
            0.5,
            0.5,
            0.5,
            0.5,
            0.5,
            0.5,
            0.5,
            0.5,
            0.1,
            0.1,
            0.1,
            0.1,
            0.1,
            0.1,
            0.1,
            0.1,
            0.1,
            0.3,
            0.3,
            0.3,
            0.3,
            0.3,
            0.3,
            0.3,
            0.3,
            0.3,
            0.5,
            0.5,
            0.5,
            0.5,
            0.5,
            0.5,
            0.5,
            0.5,
            0.5
           ]
          },
          {
           "label": "copy_top_perc",
           "values": [
            0.02,
            0.02,
            0.02,
            0.04,
            0.04,
            0.04,
            0.08,
            0.08,
            0.08,
            0.02,
            0.02,
            0.02,
            0.04,
            0.04,
            0.04,
            0.08,
            0.08,
            0.08,
            0.02,
            0.02,
            0.02,
            0.04,
            0.04,
            0.04,
            0.08,
            0.08,
            0.08,
            0.02,
            0.02,
            0.02,
            0.04,
            0.04,
            0.04,
            0.08,
            0.08,
            0.08,
            0.02,
            0.02,
            0.02,
            0.04,
            0.04,
            0.04,
            0.08,
            0.08,
            0.08,
            0.02,
            0.02,
            0.02,
            0.04,
            0.04,
            0.04,
            0.08,
            0.08,
            0.08,
            0.02,
            0.02,
            0.02,
            0.04,
            0.04,
            0.04,
            0.08,
            0.08,
            0.08,
            0.02,
            0.02,
            0.02,
            0.04,
            0.04,
            0.04,
            0.08,
            0.08,
            0.08,
            0.02,
            0.02,
            0.02,
            0.04,
            0.04,
            0.04,
            0.08,
            0.08,
            0.08,
            0.02,
            0.02,
            0.02,
            0.04,
            0.04,
            0.04,
            0.08,
            0.08,
            0.08,
            0.02,
            0.02,
            0.02,
            0.04,
            0.04,
            0.04,
            0.08,
            0.08,
            0.08,
            0.02,
            0.02,
            0.02,
            0.04,
            0.04,
            0.04,
            0.08,
            0.08,
            0.08
           ]
          },
          {
           "label": "sample_top_n",
           "values": [
            0.1,
            0.2,
            0.05,
            0.1,
            0.2,
            0.05,
            0.1,
            0.2,
            0.05,
            0.1,
            0.2,
            0.05,
            0.1,
            0.2,
            0.05,
            0.1,
            0.2,
            0.05,
            0.1,
            0.2,
            0.05,
            0.1,
            0.2,
            0.05,
            0.1,
            0.2,
            0.05,
            0.1,
            0.2,
            0.05,
            0.1,
            0.2,
            0.05,
            0.1,
            0.2,
            0.05,
            0.1,
            0.2,
            0.05,
            0.1,
            0.2,
            0.05,
            0.1,
            0.2,
            0.05,
            0.1,
            0.2,
            0.05,
            0.1,
            0.2,
            0.05,
            0.1,
            0.2,
            0.05,
            0.1,
            0.2,
            0.05,
            0.1,
            0.2,
            0.05,
            0.1,
            0.2,
            0.05,
            0.1,
            0.2,
            0.05,
            0.1,
            0.2,
            0.05,
            0.1,
            0.2,
            0.05,
            0.1,
            0.2,
            0.05,
            0.1,
            0.2,
            0.05,
            0.1,
            0.2,
            0.05,
            0.1,
            0.2,
            0.05,
            0.1,
            0.2,
            0.05,
            0.1,
            0.2,
            0.05,
            0.1,
            0.2,
            0.05,
            0.1,
            0.2,
            0.05,
            0.1,
            0.2,
            0.05,
            0.1,
            0.2,
            0.05,
            0.1,
            0.2,
            0.05,
            0.1,
            0.2,
            0.05
           ]
          },
          {
           "label": "best_fitness",
           "values": [
            3306360832,
            3306234880,
            3306377216,
            3306306816,
            3306243072,
            3306388480,
            3306366976,
            3306267904,
            3306394624,
            3306351104,
            3306283264,
            3306387712,
            3306319360,
            3306247424,
            3306366208,
            3306340608,
            3306263296,
            3306392832,
            3306348800,
            3306270208,
            3306384640,
            3306343168,
            3306222336,
            3306382336,
            3306323712,
            3306281472,
            3306383104,
            3306364928,
            3306283776,
            3306415104,
            3306365440,
            3306242304,
            3306381056,
            3306368256,
            3306329344,
            3306391296,
            3306344960,
            3306266368,
            3306338816,
            3306341632,
            3306254592,
            3306378752,
            3306329088,
            3306301952,
            3306393856,
            3306362624,
            3306272256,
            3306414080,
            3306394368,
            3306248960,
            3306401536,
            3306333440,
            3306243584,
            3306374144,
            3306322176,
            3306275328,
            3306372096,
            3306342912,
            3306261248,
            3306400000,
            3306324480,
            3306298880,
            3306367488,
            3306343424,
            3306213632,
            3306393600,
            3306310144,
            3306256384,
            3306365696,
            3306343680,
            3306258944,
            3306441472,
            3306337024,
            3306228736,
            3306351360,
            3306395648,
            3306228992,
            3306376448,
            3306355968,
            3306257920,
            3306404352,
            3306314752,
            3306246144,
            3306395136,
            3306366720,
            3306246400,
            3306397184,
            3306381568,
            3306266368,
            3306392064,
            3306331648,
            3306244352,
            3306411776,
            3306339840,
            3306243072,
            3306380544,
            3306361856,
            3306253056,
            3306386688,
            3306359552,
            3306286336,
            3306387200,
            3306375680,
            3306234880,
            3306370304,
            3306356224,
            3306269696,
            3306365440
           ]
          }
         ],
         "domain": {
          "x": [
           0,
           1
          ],
          "y": [
           0,
           1
          ]
         },
         "line": {
          "color": [
           3306360832,
           3306234880,
           3306377216,
           3306306816,
           3306243072,
           3306388480,
           3306366976,
           3306267904,
           3306394624,
           3306351104,
           3306283264,
           3306387712,
           3306319360,
           3306247424,
           3306366208,
           3306340608,
           3306263296,
           3306392832,
           3306348800,
           3306270208,
           3306384640,
           3306343168,
           3306222336,
           3306382336,
           3306323712,
           3306281472,
           3306383104,
           3306364928,
           3306283776,
           3306415104,
           3306365440,
           3306242304,
           3306381056,
           3306368256,
           3306329344,
           3306391296,
           3306344960,
           3306266368,
           3306338816,
           3306341632,
           3306254592,
           3306378752,
           3306329088,
           3306301952,
           3306393856,
           3306362624,
           3306272256,
           3306414080,
           3306394368,
           3306248960,
           3306401536,
           3306333440,
           3306243584,
           3306374144,
           3306322176,
           3306275328,
           3306372096,
           3306342912,
           3306261248,
           3306400000,
           3306324480,
           3306298880,
           3306367488,
           3306343424,
           3306213632,
           3306393600,
           3306310144,
           3306256384,
           3306365696,
           3306343680,
           3306258944,
           3306441472,
           3306337024,
           3306228736,
           3306351360,
           3306395648,
           3306228992,
           3306376448,
           3306355968,
           3306257920,
           3306404352,
           3306314752,
           3306246144,
           3306395136,
           3306366720,
           3306246400,
           3306397184,
           3306381568,
           3306266368,
           3306392064,
           3306331648,
           3306244352,
           3306411776,
           3306339840,
           3306243072,
           3306380544,
           3306361856,
           3306253056,
           3306386688,
           3306359552,
           3306286336,
           3306387200,
           3306375680,
           3306234880,
           3306370304,
           3306356224,
           3306269696,
           3306365440
          ],
          "coloraxis": "coloraxis"
         },
         "name": "",
         "type": "parcoords"
        }
       ],
       "layout": {
        "coloraxis": {
         "colorbar": {
          "title": {
           "text": "best_fitness"
          }
         },
         "colorscale": [
          [
           0,
           "#0d0887"
          ],
          [
           0.1111111111111111,
           "#46039f"
          ],
          [
           0.2222222222222222,
           "#7201a8"
          ],
          [
           0.3333333333333333,
           "#9c179e"
          ],
          [
           0.4444444444444444,
           "#bd3786"
          ],
          [
           0.5555555555555556,
           "#d8576b"
          ],
          [
           0.6666666666666666,
           "#ed7953"
          ],
          [
           0.7777777777777778,
           "#fb9f3a"
          ],
          [
           0.8888888888888888,
           "#fdca26"
          ],
          [
           1,
           "#f0f921"
          ]
         ]
        },
        "legend": {
         "tracegroupgap": 0
        },
        "margin": {
         "t": 60
        },
        "template": {
         "data": {
          "bar": [
           {
            "error_x": {
             "color": "#2a3f5f"
            },
            "error_y": {
             "color": "#2a3f5f"
            },
            "marker": {
             "line": {
              "color": "#E5ECF6",
              "width": 0.5
             },
             "pattern": {
              "fillmode": "overlay",
              "size": 10,
              "solidity": 0.2
             }
            },
            "type": "bar"
           }
          ],
          "barpolar": [
           {
            "marker": {
             "line": {
              "color": "#E5ECF6",
              "width": 0.5
             },
             "pattern": {
              "fillmode": "overlay",
              "size": 10,
              "solidity": 0.2
             }
            },
            "type": "barpolar"
           }
          ],
          "carpet": [
           {
            "aaxis": {
             "endlinecolor": "#2a3f5f",
             "gridcolor": "white",
             "linecolor": "white",
             "minorgridcolor": "white",
             "startlinecolor": "#2a3f5f"
            },
            "baxis": {
             "endlinecolor": "#2a3f5f",
             "gridcolor": "white",
             "linecolor": "white",
             "minorgridcolor": "white",
             "startlinecolor": "#2a3f5f"
            },
            "type": "carpet"
           }
          ],
          "choropleth": [
           {
            "colorbar": {
             "outlinewidth": 0,
             "ticks": ""
            },
            "type": "choropleth"
           }
          ],
          "contour": [
           {
            "colorbar": {
             "outlinewidth": 0,
             "ticks": ""
            },
            "colorscale": [
             [
              0,
              "#0d0887"
             ],
             [
              0.1111111111111111,
              "#46039f"
             ],
             [
              0.2222222222222222,
              "#7201a8"
             ],
             [
              0.3333333333333333,
              "#9c179e"
             ],
             [
              0.4444444444444444,
              "#bd3786"
             ],
             [
              0.5555555555555556,
              "#d8576b"
             ],
             [
              0.6666666666666666,
              "#ed7953"
             ],
             [
              0.7777777777777778,
              "#fb9f3a"
             ],
             [
              0.8888888888888888,
              "#fdca26"
             ],
             [
              1,
              "#f0f921"
             ]
            ],
            "type": "contour"
           }
          ],
          "contourcarpet": [
           {
            "colorbar": {
             "outlinewidth": 0,
             "ticks": ""
            },
            "type": "contourcarpet"
           }
          ],
          "heatmap": [
           {
            "colorbar": {
             "outlinewidth": 0,
             "ticks": ""
            },
            "colorscale": [
             [
              0,
              "#0d0887"
             ],
             [
              0.1111111111111111,
              "#46039f"
             ],
             [
              0.2222222222222222,
              "#7201a8"
             ],
             [
              0.3333333333333333,
              "#9c179e"
             ],
             [
              0.4444444444444444,
              "#bd3786"
             ],
             [
              0.5555555555555556,
              "#d8576b"
             ],
             [
              0.6666666666666666,
              "#ed7953"
             ],
             [
              0.7777777777777778,
              "#fb9f3a"
             ],
             [
              0.8888888888888888,
              "#fdca26"
             ],
             [
              1,
              "#f0f921"
             ]
            ],
            "type": "heatmap"
           }
          ],
          "heatmapgl": [
           {
            "colorbar": {
             "outlinewidth": 0,
             "ticks": ""
            },
            "colorscale": [
             [
              0,
              "#0d0887"
             ],
             [
              0.1111111111111111,
              "#46039f"
             ],
             [
              0.2222222222222222,
              "#7201a8"
             ],
             [
              0.3333333333333333,
              "#9c179e"
             ],
             [
              0.4444444444444444,
              "#bd3786"
             ],
             [
              0.5555555555555556,
              "#d8576b"
             ],
             [
              0.6666666666666666,
              "#ed7953"
             ],
             [
              0.7777777777777778,
              "#fb9f3a"
             ],
             [
              0.8888888888888888,
              "#fdca26"
             ],
             [
              1,
              "#f0f921"
             ]
            ],
            "type": "heatmapgl"
           }
          ],
          "histogram": [
           {
            "marker": {
             "pattern": {
              "fillmode": "overlay",
              "size": 10,
              "solidity": 0.2
             }
            },
            "type": "histogram"
           }
          ],
          "histogram2d": [
           {
            "colorbar": {
             "outlinewidth": 0,
             "ticks": ""
            },
            "colorscale": [
             [
              0,
              "#0d0887"
             ],
             [
              0.1111111111111111,
              "#46039f"
             ],
             [
              0.2222222222222222,
              "#7201a8"
             ],
             [
              0.3333333333333333,
              "#9c179e"
             ],
             [
              0.4444444444444444,
              "#bd3786"
             ],
             [
              0.5555555555555556,
              "#d8576b"
             ],
             [
              0.6666666666666666,
              "#ed7953"
             ],
             [
              0.7777777777777778,
              "#fb9f3a"
             ],
             [
              0.8888888888888888,
              "#fdca26"
             ],
             [
              1,
              "#f0f921"
             ]
            ],
            "type": "histogram2d"
           }
          ],
          "histogram2dcontour": [
           {
            "colorbar": {
             "outlinewidth": 0,
             "ticks": ""
            },
            "colorscale": [
             [
              0,
              "#0d0887"
             ],
             [
              0.1111111111111111,
              "#46039f"
             ],
             [
              0.2222222222222222,
              "#7201a8"
             ],
             [
              0.3333333333333333,
              "#9c179e"
             ],
             [
              0.4444444444444444,
              "#bd3786"
             ],
             [
              0.5555555555555556,
              "#d8576b"
             ],
             [
              0.6666666666666666,
              "#ed7953"
             ],
             [
              0.7777777777777778,
              "#fb9f3a"
             ],
             [
              0.8888888888888888,
              "#fdca26"
             ],
             [
              1,
              "#f0f921"
             ]
            ],
            "type": "histogram2dcontour"
           }
          ],
          "mesh3d": [
           {
            "colorbar": {
             "outlinewidth": 0,
             "ticks": ""
            },
            "type": "mesh3d"
           }
          ],
          "parcoords": [
           {
            "line": {
             "colorbar": {
              "outlinewidth": 0,
              "ticks": ""
             }
            },
            "type": "parcoords"
           }
          ],
          "pie": [
           {
            "automargin": true,
            "type": "pie"
           }
          ],
          "scatter": [
           {
            "fillpattern": {
             "fillmode": "overlay",
             "size": 10,
             "solidity": 0.2
            },
            "type": "scatter"
           }
          ],
          "scatter3d": [
           {
            "line": {
             "colorbar": {
              "outlinewidth": 0,
              "ticks": ""
             }
            },
            "marker": {
             "colorbar": {
              "outlinewidth": 0,
              "ticks": ""
             }
            },
            "type": "scatter3d"
           }
          ],
          "scattercarpet": [
           {
            "marker": {
             "colorbar": {
              "outlinewidth": 0,
              "ticks": ""
             }
            },
            "type": "scattercarpet"
           }
          ],
          "scattergeo": [
           {
            "marker": {
             "colorbar": {
              "outlinewidth": 0,
              "ticks": ""
             }
            },
            "type": "scattergeo"
           }
          ],
          "scattergl": [
           {
            "marker": {
             "colorbar": {
              "outlinewidth": 0,
              "ticks": ""
             }
            },
            "type": "scattergl"
           }
          ],
          "scattermapbox": [
           {
            "marker": {
             "colorbar": {
              "outlinewidth": 0,
              "ticks": ""
             }
            },
            "type": "scattermapbox"
           }
          ],
          "scatterpolar": [
           {
            "marker": {
             "colorbar": {
              "outlinewidth": 0,
              "ticks": ""
             }
            },
            "type": "scatterpolar"
           }
          ],
          "scatterpolargl": [
           {
            "marker": {
             "colorbar": {
              "outlinewidth": 0,
              "ticks": ""
             }
            },
            "type": "scatterpolargl"
           }
          ],
          "scatterternary": [
           {
            "marker": {
             "colorbar": {
              "outlinewidth": 0,
              "ticks": ""
             }
            },
            "type": "scatterternary"
           }
          ],
          "surface": [
           {
            "colorbar": {
             "outlinewidth": 0,
             "ticks": ""
            },
            "colorscale": [
             [
              0,
              "#0d0887"
             ],
             [
              0.1111111111111111,
              "#46039f"
             ],
             [
              0.2222222222222222,
              "#7201a8"
             ],
             [
              0.3333333333333333,
              "#9c179e"
             ],
             [
              0.4444444444444444,
              "#bd3786"
             ],
             [
              0.5555555555555556,
              "#d8576b"
             ],
             [
              0.6666666666666666,
              "#ed7953"
             ],
             [
              0.7777777777777778,
              "#fb9f3a"
             ],
             [
              0.8888888888888888,
              "#fdca26"
             ],
             [
              1,
              "#f0f921"
             ]
            ],
            "type": "surface"
           }
          ],
          "table": [
           {
            "cells": {
             "fill": {
              "color": "#EBF0F8"
             },
             "line": {
              "color": "white"
             }
            },
            "header": {
             "fill": {
              "color": "#C8D4E3"
             },
             "line": {
              "color": "white"
             }
            },
            "type": "table"
           }
          ]
         },
         "layout": {
          "annotationdefaults": {
           "arrowcolor": "#2a3f5f",
           "arrowhead": 0,
           "arrowwidth": 1
          },
          "autotypenumbers": "strict",
          "coloraxis": {
           "colorbar": {
            "outlinewidth": 0,
            "ticks": ""
           }
          },
          "colorscale": {
           "diverging": [
            [
             0,
             "#8e0152"
            ],
            [
             0.1,
             "#c51b7d"
            ],
            [
             0.2,
             "#de77ae"
            ],
            [
             0.3,
             "#f1b6da"
            ],
            [
             0.4,
             "#fde0ef"
            ],
            [
             0.5,
             "#f7f7f7"
            ],
            [
             0.6,
             "#e6f5d0"
            ],
            [
             0.7,
             "#b8e186"
            ],
            [
             0.8,
             "#7fbc41"
            ],
            [
             0.9,
             "#4d9221"
            ],
            [
             1,
             "#276419"
            ]
           ],
           "sequential": [
            [
             0,
             "#0d0887"
            ],
            [
             0.1111111111111111,
             "#46039f"
            ],
            [
             0.2222222222222222,
             "#7201a8"
            ],
            [
             0.3333333333333333,
             "#9c179e"
            ],
            [
             0.4444444444444444,
             "#bd3786"
            ],
            [
             0.5555555555555556,
             "#d8576b"
            ],
            [
             0.6666666666666666,
             "#ed7953"
            ],
            [
             0.7777777777777778,
             "#fb9f3a"
            ],
            [
             0.8888888888888888,
             "#fdca26"
            ],
            [
             1,
             "#f0f921"
            ]
           ],
           "sequentialminus": [
            [
             0,
             "#0d0887"
            ],
            [
             0.1111111111111111,
             "#46039f"
            ],
            [
             0.2222222222222222,
             "#7201a8"
            ],
            [
             0.3333333333333333,
             "#9c179e"
            ],
            [
             0.4444444444444444,
             "#bd3786"
            ],
            [
             0.5555555555555556,
             "#d8576b"
            ],
            [
             0.6666666666666666,
             "#ed7953"
            ],
            [
             0.7777777777777778,
             "#fb9f3a"
            ],
            [
             0.8888888888888888,
             "#fdca26"
            ],
            [
             1,
             "#f0f921"
            ]
           ]
          },
          "colorway": [
           "#636efa",
           "#EF553B",
           "#00cc96",
           "#ab63fa",
           "#FFA15A",
           "#19d3f3",
           "#FF6692",
           "#B6E880",
           "#FF97FF",
           "#FECB52"
          ],
          "font": {
           "color": "#2a3f5f"
          },
          "geo": {
           "bgcolor": "white",
           "lakecolor": "white",
           "landcolor": "#E5ECF6",
           "showlakes": true,
           "showland": true,
           "subunitcolor": "white"
          },
          "hoverlabel": {
           "align": "left"
          },
          "hovermode": "closest",
          "mapbox": {
           "style": "light"
          },
          "paper_bgcolor": "white",
          "plot_bgcolor": "#E5ECF6",
          "polar": {
           "angularaxis": {
            "gridcolor": "white",
            "linecolor": "white",
            "ticks": ""
           },
           "bgcolor": "#E5ECF6",
           "radialaxis": {
            "gridcolor": "white",
            "linecolor": "white",
            "ticks": ""
           }
          },
          "scene": {
           "xaxis": {
            "backgroundcolor": "#E5ECF6",
            "gridcolor": "white",
            "gridwidth": 2,
            "linecolor": "white",
            "showbackground": true,
            "ticks": "",
            "zerolinecolor": "white"
           },
           "yaxis": {
            "backgroundcolor": "#E5ECF6",
            "gridcolor": "white",
            "gridwidth": 2,
            "linecolor": "white",
            "showbackground": true,
            "ticks": "",
            "zerolinecolor": "white"
           },
           "zaxis": {
            "backgroundcolor": "#E5ECF6",
            "gridcolor": "white",
            "gridwidth": 2,
            "linecolor": "white",
            "showbackground": true,
            "ticks": "",
            "zerolinecolor": "white"
           }
          },
          "shapedefaults": {
           "line": {
            "color": "#2a3f5f"
           }
          },
          "ternary": {
           "aaxis": {
            "gridcolor": "white",
            "linecolor": "white",
            "ticks": ""
           },
           "baxis": {
            "gridcolor": "white",
            "linecolor": "white",
            "ticks": ""
           },
           "bgcolor": "#E5ECF6",
           "caxis": {
            "gridcolor": "white",
            "linecolor": "white",
            "ticks": ""
           }
          },
          "title": {
           "x": 0.05
          },
          "xaxis": {
           "automargin": true,
           "gridcolor": "white",
           "linecolor": "white",
           "ticks": "",
           "title": {
            "standoff": 15
           },
           "zerolinecolor": "white",
           "zerolinewidth": 2
          },
          "yaxis": {
           "automargin": true,
           "gridcolor": "white",
           "linecolor": "white",
           "ticks": "",
           "title": {
            "standoff": 15
           },
           "zerolinecolor": "white",
           "zerolinewidth": 2
          }
         }
        }
       }
      }
     },
     "metadata": {},
     "output_type": "display_data"
    }
   ],
   "source": [
    "px.parallel_coordinates(results_df, color='best_fitness', labels=['mutation_delta', 'mutation_prob', 'copy_top_perc', 'sample_top_n', 'best_fitness'])"
   ]
  },
  {
   "attachments": {},
   "cell_type": "markdown",
   "metadata": {},
   "source": [
    "## Run full optimization "
   ]
  },
  {
   "cell_type": "code",
   "execution_count": 22,
   "metadata": {},
   "outputs": [
    {
     "data": {
      "application/vnd.jupyter.widget-view+json": {
       "model_id": "d18c5788d31a48449a2d83b08b98df50",
       "version_major": 2,
       "version_minor": 0
      },
      "text/plain": [
       "Output()"
      ]
     },
     "metadata": {},
     "output_type": "display_data"
    },
    {
     "data": {
      "application/vnd.jupyter.widget-view+json": {
       "model_id": "b48c5343bc2a4857984c151a2e1a9c0f",
       "version_major": 2,
       "version_minor": 0
      },
      "text/plain": [
       "  0%|          | 0/200 [00:00<?, ?it/s]"
      ]
     },
     "metadata": {},
     "output_type": "display_data"
    }
   ],
   "source": [
    "pop = Population(target=TARGET, popsize=200, mutation_delta=0.15, mutation_prob=0.4, copy_top_perc=0.04, sample_top_n=0.2)\n",
    "pop.optimize(epochs=200, plot_frequency=2, name='4dots')"
   ]
  },
  {
   "attachments": {},
   "cell_type": "markdown",
   "metadata": {},
   "source": [
    "![training gif](img/4dots/training.gif)"
   ]
  }
 ],
 "metadata": {
  "kernelspec": {
   "display_name": "p310",
   "language": "python",
   "name": "python3"
  },
  "language_info": {
   "codemirror_mode": {
    "name": "ipython",
    "version": 3
   },
   "file_extension": ".py",
   "mimetype": "text/x-python",
   "name": "python",
   "nbconvert_exporter": "python",
   "pygments_lexer": "ipython3",
   "version": "3.10.0"
  },
  "orig_nbformat": 4,
  "vscode": {
   "interpreter": {
    "hash": "56353d809af9b053090097fae229d214f4e25b7bf7db2e9623703a8df53013a1"
   }
  }
 },
 "nbformat": 4,
 "nbformat_minor": 2
}
