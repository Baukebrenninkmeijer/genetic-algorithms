{
 "cells": [
  {
   "cell_type": "code",
   "execution_count": 1,
   "metadata": {},
   "outputs": [],
   "source": [
    "%matplotlib inline\n",
    "%load_ext autoreload\n",
    "%autoreload 2"
   ]
  },
  {
   "cell_type": "code",
   "execution_count": 2,
   "metadata": {},
   "outputs": [],
   "source": [
    "from __future__ import annotations\n",
    "import sys\n",
    "sys.path.append('..')\n",
    "from lib.plot import plot_iteration\n",
    "from lib.gif import create_gif\n",
    "import numpy as np\n",
    "from pixel_individual import PixelIndividual\n",
    "from pixel_population import Population\n",
    "import numpy as np\n",
    "import matplotlib.pyplot as plt\n",
    "from matplotlib import image\n",
    "import cv2\n",
    "from tqdm.auto import tqdm\n",
    "\n",
    "plt.rcParams['figure.facecolor'] = 'white'\n",
    "\n",
    "np.set_printoptions(precision=3, suppress=True)"
   ]
  },
  {
   "cell_type": "code",
   "execution_count": 4,
   "metadata": {},
   "outputs": [
    {
     "data": {
      "text/plain": [
       "<matplotlib.image.AxesImage at 0x7f8559666730>"
      ]
     },
     "execution_count": 4,
     "metadata": {},
     "output_type": "execute_result"
    },
    {
     "data": {
      "image/png": "[encoded data removed]",
      "text/plain": [
       "<Figure size 432x288 with 1 Axes>"
      ]
     },
     "metadata": {},
     "output_type": "display_data"
    }
   ],
   "source": [
    "TARGET = np.zeros(shape=(10, 10))\n",
    "TARGET[4, :] = np.array([0, 0, 0, 1, 0, 0, 1, 0, 0, 0])\n",
    "TARGET[6, :] = np.array([0, 0, 0, 1, 0, 0, 1, 0, 0, 0])\n",
    "plt.imshow(TARGET)"
   ]
  },
  {
   "attachments": {},
   "cell_type": "markdown",
   "metadata": {},
   "source": [
    "## Run gridsearch experiment for suitable population and individual parameters"
   ]
  },
  {
   "cell_type": "code",
   "execution_count": 24,
   "metadata": {},
   "outputs": [],
   "source": [
    "from typing import Dict, Any\n",
    "from joblib import Parallel, delayed\n",
    "from itertools import product\n",
    "import pandas as pd\n",
    "import plotly.express as px\n",
    "\n",
    "mutation_delta = [0.1, 0.2, 0.3, 0.4]\n",
    "mutation_prob = [0.1, 0.3, 0.5]\n",
    "copy_top_perc = [0.02, 0.04, 0.08, 0.15]\n",
    "sample_top_n = [0.1, 0.2, 0.05, 0.3, 0.4]\n",
    "results = []\n",
    "\n",
    "def optimize_with_config(mutation_delta, mutation_prob, copy_top_perc, sample_top_n) -> Dict[str, Any]:\n",
    "    pop = Population(target=TARGET, popsize=30, mutation_delta=mutation_delta, mutation_prob=mutation_prob, copy_top_perc=copy_top_perc, sample_top_n=sample_top_n)\n",
    "    pop.optimize(epochs=400, plot=False)\n",
    "    return {\n",
    "        'mutation_delta': mutation_delta, \n",
    "        'mutation_prob': mutation_prob, \n",
    "        'copy_top_perc': copy_top_perc, \n",
    "        'sample_top_n': sample_top_n, \n",
    "        'best_fitness': pop.pop[0].fitness\n",
    "        }"
   ]
  },
  {
   "cell_type": "code",
   "execution_count": 25,
   "metadata": {},
   "outputs": [
    {
     "data": {
      "application/vnd.jupyter.widget-view+json": {
       "model_id": "92f3009a2e214bcc9efaf6cf24afd20d",
       "version_major": 2,
       "version_minor": 0
      },
      "text/plain": [
       "  0%|          | 0/240 [00:00<?, ?it/s]"
      ]
     },
     "metadata": {},
     "output_type": "display_data"
    },
    {
     "data": {
      "text/html": [
       "<div>\n",
       "<style scoped>\n",
       "    .dataframe tbody tr th:only-of-type {\n",
       "        vertical-align: middle;\n",
       "    }\n",
       "\n",
       "    .dataframe tbody tr th {\n",
       "        vertical-align: top;\n",
       "    }\n",
       "\n",
       "    .dataframe thead th {\n",
       "        text-align: right;\n",
       "    }\n",
       "</style>\n",
       "<table border=\"1\" class=\"dataframe\">\n",
       "  <thead>\n",
       "    <tr style=\"text-align: right;\">\n",
       "      <th></th>\n",
       "      <th>mutation_delta</th>\n",
       "      <th>mutation_prob</th>\n",
       "      <th>copy_top_perc</th>\n",
       "      <th>sample_top_n</th>\n",
       "      <th>best_fitness</th>\n",
       "    </tr>\n",
       "  </thead>\n",
       "  <tbody>\n",
       "    <tr>\n",
       "      <th>0</th>\n",
       "      <td>0.1</td>\n",
       "      <td>0.1</td>\n",
       "      <td>0.02</td>\n",
       "      <td>0.10</td>\n",
       "      <td>469.089896</td>\n",
       "    </tr>\n",
       "    <tr>\n",
       "      <th>1</th>\n",
       "      <td>0.1</td>\n",
       "      <td>0.1</td>\n",
       "      <td>0.02</td>\n",
       "      <td>0.20</td>\n",
       "      <td>446.655820</td>\n",
       "    </tr>\n",
       "    <tr>\n",
       "      <th>2</th>\n",
       "      <td>0.1</td>\n",
       "      <td>0.1</td>\n",
       "      <td>0.02</td>\n",
       "      <td>0.05</td>\n",
       "      <td>514.730597</td>\n",
       "    </tr>\n",
       "    <tr>\n",
       "      <th>3</th>\n",
       "      <td>0.1</td>\n",
       "      <td>0.1</td>\n",
       "      <td>0.02</td>\n",
       "      <td>0.30</td>\n",
       "      <td>420.383905</td>\n",
       "    </tr>\n",
       "    <tr>\n",
       "      <th>4</th>\n",
       "      <td>0.1</td>\n",
       "      <td>0.1</td>\n",
       "      <td>0.02</td>\n",
       "      <td>0.40</td>\n",
       "      <td>386.919178</td>\n",
       "    </tr>\n",
       "  </tbody>\n",
       "</table>\n",
       "</div>"
      ],
      "text/plain": [
       "   mutation_delta  mutation_prob  copy_top_perc  sample_top_n  best_fitness\n",
       "0             0.1            0.1           0.02          0.10    469.089896\n",
       "1             0.1            0.1           0.02          0.20    446.655820\n",
       "2             0.1            0.1           0.02          0.05    514.730597\n",
       "3             0.1            0.1           0.02          0.30    420.383905\n",
       "4             0.1            0.1           0.02          0.40    386.919178"
      ]
     },
     "execution_count": 25,
     "metadata": {},
     "output_type": "execute_result"
    }
   ],
   "source": [
    "param_combinations = list(product(mutation_delta, mutation_prob, copy_top_perc, sample_top_n))\n",
    "result = Parallel(n_jobs=-1)(delayed(optimize_with_config)(mdelta, mprob, topp, topn) for mdelta, mprob, topp, topn in tqdm(param_combinations, total=len(param_combinations)))\n",
    "results_df = pd.DataFrame(result)\n",
    "results_df.to_parquet('grid_search_results.parquet')\n",
    "results_df.head()"
   ]
  },
  {
   "cell_type": "code",
   "execution_count": 26,
   "metadata": {},
   "outputs": [
    {
     "data": {
      "text/html": [
       "<div>\n",
       "<style scoped>\n",
       "    .dataframe tbody tr th:only-of-type {\n",
       "        vertical-align: middle;\n",
       "    }\n",
       "\n",
       "    .dataframe tbody tr th {\n",
       "        vertical-align: top;\n",
       "    }\n",
       "\n",
       "    .dataframe thead th {\n",
       "        text-align: right;\n",
       "    }\n",
       "</style>\n",
       "<table border=\"1\" class=\"dataframe\">\n",
       "  <thead>\n",
       "    <tr style=\"text-align: right;\">\n",
       "      <th></th>\n",
       "      <th>mutation_delta</th>\n",
       "      <th>mutation_prob</th>\n",
       "      <th>copy_top_perc</th>\n",
       "      <th>sample_top_n</th>\n",
       "      <th>best_fitness</th>\n",
       "    </tr>\n",
       "  </thead>\n",
       "  <tbody>\n",
       "    <tr>\n",
       "      <th>39</th>\n",
       "      <td>0.1</td>\n",
       "      <td>0.3</td>\n",
       "      <td>0.15</td>\n",
       "      <td>0.40</td>\n",
       "      <td>378.537444</td>\n",
       "    </tr>\n",
       "    <tr>\n",
       "      <th>99</th>\n",
       "      <td>0.2</td>\n",
       "      <td>0.3</td>\n",
       "      <td>0.15</td>\n",
       "      <td>0.40</td>\n",
       "      <td>378.798450</td>\n",
       "    </tr>\n",
       "    <tr>\n",
       "      <th>54</th>\n",
       "      <td>0.1</td>\n",
       "      <td>0.5</td>\n",
       "      <td>0.08</td>\n",
       "      <td>0.40</td>\n",
       "      <td>380.867109</td>\n",
       "    </tr>\n",
       "    <tr>\n",
       "      <th>194</th>\n",
       "      <td>0.4</td>\n",
       "      <td>0.1</td>\n",
       "      <td>0.08</td>\n",
       "      <td>0.40</td>\n",
       "      <td>381.138741</td>\n",
       "    </tr>\n",
       "    <tr>\n",
       "      <th>34</th>\n",
       "      <td>0.1</td>\n",
       "      <td>0.3</td>\n",
       "      <td>0.08</td>\n",
       "      <td>0.40</td>\n",
       "      <td>382.284340</td>\n",
       "    </tr>\n",
       "    <tr>\n",
       "      <th>...</th>\n",
       "      <td>...</td>\n",
       "      <td>...</td>\n",
       "      <td>...</td>\n",
       "      <td>...</td>\n",
       "      <td>...</td>\n",
       "    </tr>\n",
       "    <tr>\n",
       "      <th>182</th>\n",
       "      <td>0.4</td>\n",
       "      <td>0.1</td>\n",
       "      <td>0.02</td>\n",
       "      <td>0.05</td>\n",
       "      <td>514.649624</td>\n",
       "    </tr>\n",
       "    <tr>\n",
       "      <th>2</th>\n",
       "      <td>0.1</td>\n",
       "      <td>0.1</td>\n",
       "      <td>0.02</td>\n",
       "      <td>0.05</td>\n",
       "      <td>514.730597</td>\n",
       "    </tr>\n",
       "    <tr>\n",
       "      <th>27</th>\n",
       "      <td>0.1</td>\n",
       "      <td>0.3</td>\n",
       "      <td>0.04</td>\n",
       "      <td>0.05</td>\n",
       "      <td>516.796636</td>\n",
       "    </tr>\n",
       "    <tr>\n",
       "      <th>52</th>\n",
       "      <td>0.1</td>\n",
       "      <td>0.5</td>\n",
       "      <td>0.08</td>\n",
       "      <td>0.05</td>\n",
       "      <td>517.420879</td>\n",
       "    </tr>\n",
       "    <tr>\n",
       "      <th>207</th>\n",
       "      <td>0.4</td>\n",
       "      <td>0.3</td>\n",
       "      <td>0.04</td>\n",
       "      <td>0.05</td>\n",
       "      <td>517.708216</td>\n",
       "    </tr>\n",
       "  </tbody>\n",
       "</table>\n",
       "<p>240 rows × 5 columns</p>\n",
       "</div>"
      ],
      "text/plain": [
       "     mutation_delta  mutation_prob  copy_top_perc  sample_top_n  best_fitness\n",
       "39              0.1            0.3           0.15          0.40    378.537444\n",
       "99              0.2            0.3           0.15          0.40    378.798450\n",
       "54              0.1            0.5           0.08          0.40    380.867109\n",
       "194             0.4            0.1           0.08          0.40    381.138741\n",
       "34              0.1            0.3           0.08          0.40    382.284340\n",
       "..              ...            ...            ...           ...           ...\n",
       "182             0.4            0.1           0.02          0.05    514.649624\n",
       "2               0.1            0.1           0.02          0.05    514.730597\n",
       "27              0.1            0.3           0.04          0.05    516.796636\n",
       "52              0.1            0.5           0.08          0.05    517.420879\n",
       "207             0.4            0.3           0.04          0.05    517.708216\n",
       "\n",
       "[240 rows x 5 columns]"
      ]
     },
     "execution_count": 26,
     "metadata": {},
     "output_type": "execute_result"
    }
   ],
   "source": [
    "results_df = pd.read_parquet('grid_search_results.parquet')\n",
    "results_df.sort_values('best_fitness')"
   ]
  },
  {
   "cell_type": "code",
   "execution_count": 27,
   "metadata": {},
   "outputs": [
    {
     "data": {
      "application/vnd.plotly.v1+json": {
       "config": {
        "plotlyServerURL": "https://plot.ly"
       },
       "data": [
        {
         "dimensions": [
          {
           "label": "mutation_delta",
           "values": [
            0.1,
            0.1,
            0.1,
            0.1,
            0.1,
            0.1,
            0.1,
            0.1,
            0.1,
            0.1,
            0.1,
            0.1,
            0.1,
            0.1,
            0.1,
            0.1,
            0.1,
            0.1,
            0.1,
            0.1,
            0.1,
            0.1,
            0.1,
            0.1,
            0.1,
            0.1,
            0.1,
            0.1,
            0.1,
            0.1,
            0.1,
            0.1,
            0.1,
            0.1,
            0.1,
            0.1,
            0.1,
            0.1,
            0.1,
            0.1,
            0.1,
            0.1,
            0.1,
            0.1,
            0.1,
            0.1,
            0.1,
            0.1,
            0.1,
            0.1,
            0.1,
            0.1,
            0.1,
            0.1,
            0.1,
            0.1,
            0.1,
            0.1,
            0.1,
            0.1,
            0.2,
            0.2,
            0.2,
            0.2,
            0.2,
            0.2,
            0.2,
            0.2,
            0.2,
            0.2,
            0.2,
            0.2,
            0.2,
            0.2,
            0.2,
            0.2,
            0.2,
            0.2,
            0.2,
            0.2,
            0.2,
            0.2,
            0.2,
            0.2,
            0.2,
            0.2,
            0.2,
            0.2,
            0.2,
            0.2,
            0.2,
            0.2,
            0.2,
            0.2,
            0.2,
            0.2,
            0.2,
            0.2,
            0.2,
            0.2,
            0.2,
            0.2,
            0.2,
            0.2,
            0.2,
            0.2,
            0.2,
            0.2,
            0.2,
            0.2,
            0.2,
            0.2,
            0.2,
            0.2,
            0.2,
            0.2,
            0.2,
            0.2,
            0.2,
            0.2,
            0.3,
            0.3,
            0.3,
            0.3,
            0.3,
            0.3,
            0.3,
            0.3,
            0.3,
            0.3,
            0.3,
            0.3,
            0.3,
            0.3,
            0.3,
            0.3,
            0.3,
            0.3,
            0.3,
            0.3,
            0.3,
            0.3,
            0.3,
            0.3,
            0.3,
            0.3,
            0.3,
            0.3,
            0.3,
            0.3,
            0.3,
            0.3,
            0.3,
            0.3,
            0.3,
            0.3,
            0.3,
            0.3,
            0.3,
            0.3,
            0.3,
            0.3,
            0.3,
            0.3,
            0.3,
            0.3,
            0.3,
            0.3,
            0.3,
            0.3,
            0.3,
            0.3,
            0.3,
            0.3,
            0.3,
            0.3,
            0.3,
            0.3,
            0.3,
            0.3,
            0.4,
            0.4,
            0.4,
            0.4,
            0.4,
            0.4,
            0.4,
            0.4,
            0.4,
            0.4,
            0.4,
            0.4,
            0.4,
            0.4,
            0.4,
            0.4,
            0.4,
            0.4,
            0.4,
            0.4,
            0.4,
            0.4,
            0.4,
            0.4,
            0.4,
            0.4,
            0.4,
            0.4,
            0.4,
            0.4,
            0.4,
            0.4,
            0.4,
            0.4,
            0.4,
            0.4,
            0.4,
            0.4,
            0.4,
            0.4,
            0.4,
            0.4,
            0.4,
            0.4,
            0.4,
            0.4,
            0.4,
            0.4,
            0.4,
            0.4,
            0.4,
            0.4,
            0.4,
            0.4,
            0.4,
            0.4,
            0.4,
            0.4,
            0.4,
            0.4
           ]
          },
          {
           "label": "mutation_prob",
           "values": [
            0.1,
            0.1,
            0.1,
            0.1,
            0.1,
            0.1,
            0.1,
            0.1,
            0.1,
            0.1,
            0.1,
            0.1,
            0.1,
            0.1,
            0.1,
            0.1,
            0.1,
            0.1,
            0.1,
            0.1,
            0.3,
            0.3,
            0.3,
            0.3,
            0.3,
            0.3,
            0.3,
            0.3,
            0.3,
            0.3,
            0.3,
            0.3,
            0.3,
            0.3,
            0.3,
            0.3,
            0.3,
            0.3,
            0.3,
            0.3,
            0.5,
            0.5,
            0.5,
            0.5,
            0.5,
            0.5,
            0.5,
            0.5,
            0.5,
            0.5,
            0.5,
            0.5,
            0.5,
            0.5,
            0.5,
            0.5,
            0.5,
            0.5,
            0.5,
            0.5,
            0.1,
            0.1,
            0.1,
            0.1,
            0.1,
            0.1,
            0.1,
            0.1,
            0.1,
            0.1,
            0.1,
            0.1,
            0.1,
            0.1,
            0.1,
            0.1,
            0.1,
            0.1,
            0.1,
            0.1,
            0.3,
            0.3,
            0.3,
            0.3,
            0.3,
            0.3,
            0.3,
            0.3,
            0.3,
            0.3,
            0.3,
            0.3,
            0.3,
            0.3,
            0.3,
            0.3,
            0.3,
            0.3,
            0.3,
            0.3,
            0.5,
            0.5,
            0.5,
            0.5,
            0.5,
            0.5,
            0.5,
            0.5,
            0.5,
            0.5,
            0.5,
            0.5,
            0.5,
            0.5,
            0.5,
            0.5,
            0.5,
            0.5,
            0.5,
            0.5,
            0.1,
            0.1,
            0.1,
            0.1,
            0.1,
            0.1,
            0.1,
            0.1,
            0.1,
            0.1,
            0.1,
            0.1,
            0.1,
            0.1,
            0.1,
            0.1,
            0.1,
            0.1,
            0.1,
            0.1,
            0.3,
            0.3,
            0.3,
            0.3,
            0.3,
            0.3,
            0.3,
            0.3,
            0.3,
            0.3,
            0.3,
            0.3,
            0.3,
            0.3,
            0.3,
            0.3,
            0.3,
            0.3,
            0.3,
            0.3,
            0.5,
            0.5,
            0.5,
            0.5,
            0.5,
            0.5,
            0.5,
            0.5,
            0.5,
            0.5,
            0.5,
            0.5,
            0.5,
            0.5,
            0.5,
            0.5,
            0.5,
            0.5,
            0.5,
            0.5,
            0.1,
            0.1,
            0.1,
            0.1,
            0.1,
            0.1,
            0.1,
            0.1,
            0.1,
            0.1,
            0.1,
            0.1,
            0.1,
            0.1,
            0.1,
            0.1,
            0.1,
            0.1,
            0.1,
            0.1,
            0.3,
            0.3,
            0.3,
            0.3,
            0.3,
            0.3,
            0.3,
            0.3,
            0.3,
            0.3,
            0.3,
            0.3,
            0.3,
            0.3,
            0.3,
            0.3,
            0.3,
            0.3,
            0.3,
            0.3,
            0.5,
            0.5,
            0.5,
            0.5,
            0.5,
            0.5,
            0.5,
            0.5,
            0.5,
            0.5,
            0.5,
            0.5,
            0.5,
            0.5,
            0.5,
            0.5,
            0.5,
            0.5,
            0.5,
            0.5
           ]
          },
          {
           "label": "copy_top_perc",
           "values": [
            0.02,
            0.02,
            0.02,
            0.02,
            0.02,
            0.04,
            0.04,
            0.04,
            0.04,
            0.04,
            0.08,
            0.08,
            0.08,
            0.08,
            0.08,
            0.15,
            0.15,
            0.15,
            0.15,
            0.15,
            0.02,
            0.02,
            0.02,
            0.02,
            0.02,
            0.04,
            0.04,
            0.04,
            0.04,
            0.04,
            0.08,
            0.08,
            0.08,
            0.08,
            0.08,
            0.15,
            0.15,
            0.15,
            0.15,
            0.15,
            0.02,
            0.02,
            0.02,
            0.02,
            0.02,
            0.04,
            0.04,
            0.04,
            0.04,
            0.04,
            0.08,
            0.08,
            0.08,
            0.08,
            0.08,
            0.15,
            0.15,
            0.15,
            0.15,
            0.15,
            0.02,
            0.02,
            0.02,
            0.02,
            0.02,
            0.04,
            0.04,
            0.04,
            0.04,
            0.04,
            0.08,
            0.08,
            0.08,
            0.08,
            0.08,
            0.15,
            0.15,
            0.15,
            0.15,
            0.15,
            0.02,
            0.02,
            0.02,
            0.02,
            0.02,
            0.04,
            0.04,
            0.04,
            0.04,
            0.04,
            0.08,
            0.08,
            0.08,
            0.08,
            0.08,
            0.15,
            0.15,
            0.15,
            0.15,
            0.15,
            0.02,
            0.02,
            0.02,
            0.02,
            0.02,
            0.04,
            0.04,
            0.04,
            0.04,
            0.04,
            0.08,
            0.08,
            0.08,
            0.08,
            0.08,
            0.15,
            0.15,
            0.15,
            0.15,
            0.15,
            0.02,
            0.02,
            0.02,
            0.02,
            0.02,
            0.04,
            0.04,
            0.04,
            0.04,
            0.04,
            0.08,
            0.08,
            0.08,
            0.08,
            0.08,
            0.15,
            0.15,
            0.15,
            0.15,
            0.15,
            0.02,
            0.02,
            0.02,
            0.02,
            0.02,
            0.04,
            0.04,
            0.04,
            0.04,
            0.04,
            0.08,
            0.08,
            0.08,
            0.08,
            0.08,
            0.15,
            0.15,
            0.15,
            0.15,
            0.15,
            0.02,
            0.02,
            0.02,
            0.02,
            0.02,
            0.04,
            0.04,
            0.04,
            0.04,
            0.04,
            0.08,
            0.08,
            0.08,
            0.08,
            0.08,
            0.15,
            0.15,
            0.15,
            0.15,
            0.15,
            0.02,
            0.02,
            0.02,
            0.02,
            0.02,
            0.04,
            0.04,
            0.04,
            0.04,
            0.04,
            0.08,
            0.08,
            0.08,
            0.08,
            0.08,
            0.15,
            0.15,
            0.15,
            0.15,
            0.15,
            0.02,
            0.02,
            0.02,
            0.02,
            0.02,
            0.04,
            0.04,
            0.04,
            0.04,
            0.04,
            0.08,
            0.08,
            0.08,
            0.08,
            0.08,
            0.15,
            0.15,
            0.15,
            0.15,
            0.15,
            0.02,
            0.02,
            0.02,
            0.02,
            0.02,
            0.04,
            0.04,
            0.04,
            0.04,
            0.04,
            0.08,
            0.08,
            0.08,
            0.08,
            0.08,
            0.15,
            0.15,
            0.15,
            0.15,
            0.15
           ]
          },
          {
           "label": "sample_top_n",
           "values": [
            0.1,
            0.2,
            0.05,
            0.3,
            0.4,
            0.1,
            0.2,
            0.05,
            0.3,
            0.4,
            0.1,
            0.2,
            0.05,
            0.3,
            0.4,
            0.1,
            0.2,
            0.05,
            0.3,
            0.4,
            0.1,
            0.2,
            0.05,
            0.3,
            0.4,
            0.1,
            0.2,
            0.05,
            0.3,
            0.4,
            0.1,
            0.2,
            0.05,
            0.3,
            0.4,
            0.1,
            0.2,
            0.05,
            0.3,
            0.4,
            0.1,
            0.2,
            0.05,
            0.3,
            0.4,
            0.1,
            0.2,
            0.05,
            0.3,
            0.4,
            0.1,
            0.2,
            0.05,
            0.3,
            0.4,
            0.1,
            0.2,
            0.05,
            0.3,
            0.4,
            0.1,
            0.2,
            0.05,
            0.3,
            0.4,
            0.1,
            0.2,
            0.05,
            0.3,
            0.4,
            0.1,
            0.2,
            0.05,
            0.3,
            0.4,
            0.1,
            0.2,
            0.05,
            0.3,
            0.4,
            0.1,
            0.2,
            0.05,
            0.3,
            0.4,
            0.1,
            0.2,
            0.05,
            0.3,
            0.4,
            0.1,
            0.2,
            0.05,
            0.3,
            0.4,
            0.1,
            0.2,
            0.05,
            0.3,
            0.4,
            0.1,
            0.2,
            0.05,
            0.3,
            0.4,
            0.1,
            0.2,
            0.05,
            0.3,
            0.4,
            0.1,
            0.2,
            0.05,
            0.3,
            0.4,
            0.1,
            0.2,
            0.05,
            0.3,
            0.4,
            0.1,
            0.2,
            0.05,
            0.3,
            0.4,
            0.1,
            0.2,
            0.05,
            0.3,
            0.4,
            0.1,
            0.2,
            0.05,
            0.3,
            0.4,
            0.1,
            0.2,
            0.05,
            0.3,
            0.4,
            0.1,
            0.2,
            0.05,
            0.3,
            0.4,
            0.1,
            0.2,
            0.05,
            0.3,
            0.4,
            0.1,
            0.2,
            0.05,
            0.3,
            0.4,
            0.1,
            0.2,
            0.05,
            0.3,
            0.4,
            0.1,
            0.2,
            0.05,
            0.3,
            0.4,
            0.1,
            0.2,
            0.05,
            0.3,
            0.4,
            0.1,
            0.2,
            0.05,
            0.3,
            0.4,
            0.1,
            0.2,
            0.05,
            0.3,
            0.4,
            0.1,
            0.2,
            0.05,
            0.3,
            0.4,
            0.1,
            0.2,
            0.05,
            0.3,
            0.4,
            0.1,
            0.2,
            0.05,
            0.3,
            0.4,
            0.1,
            0.2,
            0.05,
            0.3,
            0.4,
            0.1,
            0.2,
            0.05,
            0.3,
            0.4,
            0.1,
            0.2,
            0.05,
            0.3,
            0.4,
            0.1,
            0.2,
            0.05,
            0.3,
            0.4,
            0.1,
            0.2,
            0.05,
            0.3,
            0.4,
            0.1,
            0.2,
            0.05,
            0.3,
            0.4,
            0.1,
            0.2,
            0.05,
            0.3,
            0.4,
            0.1,
            0.2,
            0.05,
            0.3,
            0.4,
            0.1,
            0.2,
            0.05,
            0.3,
            0.4
           ]
          },
          {
           "label": "best_fitness",
           "values": [
            469.0898958367648,
            446.6558201557691,
            514.7305966902111,
            420.3839046597494,
            386.9191782889004,
            470.5219751245371,
            449.03758201391645,
            504.4150193521531,
            407.3482685477446,
            391.1117333929922,
            471.3145048080045,
            441.3828997880511,
            506.0644715983103,
            416.25748188221945,
            386.71143568839193,
            477.01898208433096,
            443.63709252034727,
            495.8658108457617,
            408.905404277383,
            393.0792337885526,
            471.20145711263984,
            441.61693879836184,
            504.3594076557415,
            412.5407799186222,
            389.9776345113387,
            482.9816757452568,
            453.0725941420201,
            516.7966357824456,
            414.46665681639604,
            394.9530301701478,
            473.59770778048437,
            455.612563138155,
            502.0162062281734,
            416.22976109342187,
            382.28433974230643,
            474.02114122595583,
            438.2501104756874,
            499.48525657420475,
            412.7228294540106,
            378.53744370082643,
            483.347935982816,
            448.25570975923654,
            506.2608574120381,
            412.75200119530274,
            385.8483759852143,
            482.1291197192364,
            445.1266343507916,
            506.4654754690564,
            406.9502004142128,
            389.150328117629,
            485.62334480715583,
            448.8525383793268,
            517.420878910054,
            414.479333155954,
            380.8671089255342,
            473.85905158251177,
            440.7883341742563,
            500.1276369145287,
            415.8884111354947,
            390.1498286262262,
            473.56486366612535,
            433.9501415986916,
            503.3163350439417,
            403.6297101530554,
            389.9692471205266,
            471.17967871404045,
            450.8113262686084,
            511.14723427669776,
            411.3048518934232,
            389.62366881942285,
            472.1791693116863,
            449.9318755546565,
            505.0489437113017,
            411.4474763465969,
            386.21414150788706,
            474.3456085657909,
            448.01641067401226,
            505.89416759873734,
            412.6411523020399,
            387.62273245178073,
            477.4456438230494,
            454.0210568367088,
            504.9129615313126,
            414.2789596016395,
            390.61855129273965,
            475.94553087402323,
            447.6660564207591,
            510.8525464378763,
            404.4181917436734,
            388.84441672951283,
            477.00681964972574,
            438.6668625774784,
            506.16025724133794,
            412.6544786897458,
            386.2316762710206,
            477.2144411661314,
            442.24684948279366,
            511.1294414405651,
            407.77584801483056,
            378.7984504043148,
            473.200156933846,
            444.6644611931081,
            504.56404327086915,
            410.6427575287393,
            389.91054058102316,
            480.612135332977,
            443.0579679333136,
            504.01491129773325,
            412.60849695847276,
            392.59402230164426,
            474.11481918126043,
            443.9554805771013,
            514.2523709740584,
            408.3822216095128,
            387.0753945556246,
            482.48644892978143,
            449.161171866847,
            498.5696063375067,
            408.09800580019885,
            387.2179462433252,
            477.09534469392344,
            442.6496513535782,
            507.6779951270548,
            408.7747601899356,
            387.9983316135474,
            482.6638660132373,
            452.26244242668884,
            504.821234567946,
            419.6799686896786,
            390.63193362273717,
            480.1503430344222,
            450.1059829647154,
            512.0825069876671,
            413.0572785773345,
            386.4629050090143,
            472.2075063171973,
            443.84081445965114,
            508.0353855057282,
            419.3806102164291,
            383.0727432560883,
            490.971028912954,
            441.5188852537187,
            511.74155540498873,
            415.6254001683551,
            383.7973183962747,
            482.48197474645065,
            449.48256014706436,
            508.9893048811921,
            411.346122591221,
            383.07890589260626,
            472.4750536030143,
            450.11639428630826,
            509.1644717725505,
            404.75871994332283,
            393.3966292615729,
            471.23603631276706,
            441.5815197810065,
            501.5155512761616,
            412.53507900040745,
            390.88620875105596,
            476.3895905645013,
            442.69450601535925,
            505.9121784390807,
            411.4130963022436,
            389.96270081898587,
            482.15118916968385,
            452.06783778782375,
            507.1780972675973,
            408.8628088952226,
            393.11977886318317,
            473.69168114745617,
            445.7840874162555,
            512.2551426513907,
            413.8663296197309,
            390.05441972403185,
            474.32824648608937,
            442.568740771026,
            499.61776877669365,
            407.90324374298643,
            383.6769377414475,
            475.44855638652,
            437.8434431671978,
            514.6496236948526,
            411.5235719128716,
            391.202914843842,
            483.895638590055,
            445.5870050183704,
            503.52215242810394,
            422.5329379689158,
            397.0512309818638,
            477.42902850597216,
            447.2980506712271,
            504.02138127486796,
            410.23767028163985,
            381.13874103903237,
            474.930299565186,
            439.1165651264412,
            496.30490367811535,
            411.8917233341521,
            386.9430721822529,
            476.1516974429418,
            445.1209894465111,
            508.4813757505666,
            408.32906210037766,
            389.86238140299577,
            482.57703182557117,
            440.1960453571952,
            517.7082160205234,
            413.79436818616455,
            388.2129158764145,
            479.29845961621345,
            446.1155156930315,
            514.1414875775779,
            408.19272439003834,
            393.601452211406,
            464.7065971312136,
            446.4666649172193,
            500.348922207948,
            410.5343612514976,
            390.5376561953772,
            472.1715551757568,
            451.05065584322756,
            505.9860480979569,
            415.6298225770944,
            393.677347522939,
            479.3520644515445,
            450.3010628258543,
            503.8532281569845,
            410.0216660360587,
            392.86414575616067,
            470.53502216031006,
            456.8084851771679,
            503.34176264273043,
            415.26567430120684,
            386.435738290095,
            481.5057002572503,
            437.6048199881935,
            504.0069711908435,
            411.0557756106038,
            385.82568507877795
           ]
          }
         ],
         "domain": {
          "x": [
           0,
           1
          ],
          "y": [
           0,
           1
          ]
         },
         "line": {
          "color": [
           469.0898958367648,
           446.6558201557691,
           514.7305966902111,
           420.3839046597494,
           386.9191782889004,
           470.5219751245371,
           449.03758201391645,
           504.4150193521531,
           407.3482685477446,
           391.1117333929922,
           471.3145048080045,
           441.3828997880511,
           506.0644715983103,
           416.25748188221945,
           386.71143568839193,
           477.01898208433096,
           443.63709252034727,
           495.8658108457617,
           408.905404277383,
           393.0792337885526,
           471.20145711263984,
           441.61693879836184,
           504.3594076557415,
           412.5407799186222,
           389.9776345113387,
           482.9816757452568,
           453.0725941420201,
           516.7966357824456,
           414.46665681639604,
           394.9530301701478,
           473.59770778048437,
           455.612563138155,
           502.0162062281734,
           416.22976109342187,
           382.28433974230643,
           474.02114122595583,
           438.2501104756874,
           499.48525657420475,
           412.7228294540106,
           378.53744370082643,
           483.347935982816,
           448.25570975923654,
           506.2608574120381,
           412.75200119530274,
           385.8483759852143,
           482.1291197192364,
           445.1266343507916,
           506.4654754690564,
           406.9502004142128,
           389.150328117629,
           485.62334480715583,
           448.8525383793268,
           517.420878910054,
           414.479333155954,
           380.8671089255342,
           473.85905158251177,
           440.7883341742563,
           500.1276369145287,
           415.8884111354947,
           390.1498286262262,
           473.56486366612535,
           433.9501415986916,
           503.3163350439417,
           403.6297101530554,
           389.9692471205266,
           471.17967871404045,
           450.8113262686084,
           511.14723427669776,
           411.3048518934232,
           389.62366881942285,
           472.1791693116863,
           449.9318755546565,
           505.0489437113017,
           411.4474763465969,
           386.21414150788706,
           474.3456085657909,
           448.01641067401226,
           505.89416759873734,
           412.6411523020399,
           387.62273245178073,
           477.4456438230494,
           454.0210568367088,
           504.9129615313126,
           414.2789596016395,
           390.61855129273965,
           475.94553087402323,
           447.6660564207591,
           510.8525464378763,
           404.4181917436734,
           388.84441672951283,
           477.00681964972574,
           438.6668625774784,
           506.16025724133794,
           412.6544786897458,
           386.2316762710206,
           477.2144411661314,
           442.24684948279366,
           511.1294414405651,
           407.77584801483056,
           378.7984504043148,
           473.200156933846,
           444.6644611931081,
           504.56404327086915,
           410.6427575287393,
           389.91054058102316,
           480.612135332977,
           443.0579679333136,
           504.01491129773325,
           412.60849695847276,
           392.59402230164426,
           474.11481918126043,
           443.9554805771013,
           514.2523709740584,
           408.3822216095128,
           387.0753945556246,
           482.48644892978143,
           449.161171866847,
           498.5696063375067,
           408.09800580019885,
           387.2179462433252,
           477.09534469392344,
           442.6496513535782,
           507.6779951270548,
           408.7747601899356,
           387.9983316135474,
           482.6638660132373,
           452.26244242668884,
           504.821234567946,
           419.6799686896786,
           390.63193362273717,
           480.1503430344222,
           450.1059829647154,
           512.0825069876671,
           413.0572785773345,
           386.4629050090143,
           472.2075063171973,
           443.84081445965114,
           508.0353855057282,
           419.3806102164291,
           383.0727432560883,
           490.971028912954,
           441.5188852537187,
           511.74155540498873,
           415.6254001683551,
           383.7973183962747,
           482.48197474645065,
           449.48256014706436,
           508.9893048811921,
           411.346122591221,
           383.07890589260626,
           472.4750536030143,
           450.11639428630826,
           509.1644717725505,
           404.75871994332283,
           393.3966292615729,
           471.23603631276706,
           441.5815197810065,
           501.5155512761616,
           412.53507900040745,
           390.88620875105596,
           476.3895905645013,
           442.69450601535925,
           505.9121784390807,
           411.4130963022436,
           389.96270081898587,
           482.15118916968385,
           452.06783778782375,
           507.1780972675973,
           408.8628088952226,
           393.11977886318317,
           473.69168114745617,
           445.7840874162555,
           512.2551426513907,
           413.8663296197309,
           390.05441972403185,
           474.32824648608937,
           442.568740771026,
           499.61776877669365,
           407.90324374298643,
           383.6769377414475,
           475.44855638652,
           437.8434431671978,
           514.6496236948526,
           411.5235719128716,
           391.202914843842,
           483.895638590055,
           445.5870050183704,
           503.52215242810394,
           422.5329379689158,
           397.0512309818638,
           477.42902850597216,
           447.2980506712271,
           504.02138127486796,
           410.23767028163985,
           381.13874103903237,
           474.930299565186,
           439.1165651264412,
           496.30490367811535,
           411.8917233341521,
           386.9430721822529,
           476.1516974429418,
           445.1209894465111,
           508.4813757505666,
           408.32906210037766,
           389.86238140299577,
           482.57703182557117,
           440.1960453571952,
           517.7082160205234,
           413.79436818616455,
           388.2129158764145,
           479.29845961621345,
           446.1155156930315,
           514.1414875775779,
           408.19272439003834,
           393.601452211406,
           464.7065971312136,
           446.4666649172193,
           500.348922207948,
           410.5343612514976,
           390.5376561953772,
           472.1715551757568,
           451.05065584322756,
           505.9860480979569,
           415.6298225770944,
           393.677347522939,
           479.3520644515445,
           450.3010628258543,
           503.8532281569845,
           410.0216660360587,
           392.86414575616067,
           470.53502216031006,
           456.8084851771679,
           503.34176264273043,
           415.26567430120684,
           386.435738290095,
           481.5057002572503,
           437.6048199881935,
           504.0069711908435,
           411.0557756106038,
           385.82568507877795
          ],
          "coloraxis": "coloraxis"
         },
         "name": "",
         "type": "parcoords"
        }
       ],
       "layout": {
        "coloraxis": {
         "colorbar": {
          "title": {
           "text": "best_fitness"
          }
         },
         "colorscale": [
          [
           0,
           "#0d0887"
          ],
          [
           0.1111111111111111,
           "#46039f"
          ],
          [
           0.2222222222222222,
           "#7201a8"
          ],
          [
           0.3333333333333333,
           "#9c179e"
          ],
          [
           0.4444444444444444,
           "#bd3786"
          ],
          [
           0.5555555555555556,
           "#d8576b"
          ],
          [
           0.6666666666666666,
           "#ed7953"
          ],
          [
           0.7777777777777778,
           "#fb9f3a"
          ],
          [
           0.8888888888888888,
           "#fdca26"
          ],
          [
           1,
           "#f0f921"
          ]
         ]
        },
        "legend": {
         "tracegroupgap": 0
        },
        "margin": {
         "t": 60
        },
        "template": {
         "data": {
          "bar": [
           {
            "error_x": {
             "color": "#2a3f5f"
            },
            "error_y": {
             "color": "#2a3f5f"
            },
            "marker": {
             "line": {
              "color": "#E5ECF6",
              "width": 0.5
             },
             "pattern": {
              "fillmode": "overlay",
              "size": 10,
              "solidity": 0.2
             }
            },
            "type": "bar"
           }
          ],
          "barpolar": [
           {
            "marker": {
             "line": {
              "color": "#E5ECF6",
              "width": 0.5
             },
             "pattern": {
              "fillmode": "overlay",
              "size": 10,
              "solidity": 0.2
             }
            },
            "type": "barpolar"
           }
          ],
          "carpet": [
           {
            "aaxis": {
             "endlinecolor": "#2a3f5f",
             "gridcolor": "white",
             "linecolor": "white",
             "minorgridcolor": "white",
             "startlinecolor": "#2a3f5f"
            },
            "baxis": {
             "endlinecolor": "#2a3f5f",
             "gridcolor": "white",
             "linecolor": "white",
             "minorgridcolor": "white",
             "startlinecolor": "#2a3f5f"
            },
            "type": "carpet"
           }
          ],
          "choropleth": [
           {
            "colorbar": {
             "outlinewidth": 0,
             "ticks": ""
            },
            "type": "choropleth"
           }
          ],
          "contour": [
           {
            "colorbar": {
             "outlinewidth": 0,
             "ticks": ""
            },
            "colorscale": [
             [
              0,
              "#0d0887"
             ],
             [
              0.1111111111111111,
              "#46039f"
             ],
             [
              0.2222222222222222,
              "#7201a8"
             ],
             [
              0.3333333333333333,
              "#9c179e"
             ],
             [
              0.4444444444444444,
              "#bd3786"
             ],
             [
              0.5555555555555556,
              "#d8576b"
             ],
             [
              0.6666666666666666,
              "#ed7953"
             ],
             [
              0.7777777777777778,
              "#fb9f3a"
             ],
             [
              0.8888888888888888,
              "#fdca26"
             ],
             [
              1,
              "#f0f921"
             ]
            ],
            "type": "contour"
           }
          ],
          "contourcarpet": [
           {
            "colorbar": {
             "outlinewidth": 0,
             "ticks": ""
            },
            "type": "contourcarpet"
           }
          ],
          "heatmap": [
           {
            "colorbar": {
             "outlinewidth": 0,
             "ticks": ""
            },
            "colorscale": [
             [
              0,
              "#0d0887"
             ],
             [
              0.1111111111111111,
              "#46039f"
             ],
             [
              0.2222222222222222,
              "#7201a8"
             ],
             [
              0.3333333333333333,
              "#9c179e"
             ],
             [
              0.4444444444444444,
              "#bd3786"
             ],
             [
              0.5555555555555556,
              "#d8576b"
             ],
             [
              0.6666666666666666,
              "#ed7953"
             ],
             [
              0.7777777777777778,
              "#fb9f3a"
             ],
             [
              0.8888888888888888,
              "#fdca26"
             ],
             [
              1,
              "#f0f921"
             ]
            ],
            "type": "heatmap"
           }
          ],
          "heatmapgl": [
           {
            "colorbar": {
             "outlinewidth": 0,
             "ticks": ""
            },
            "colorscale": [
             [
              0,
              "#0d0887"
             ],
             [
              0.1111111111111111,
              "#46039f"
             ],
             [
              0.2222222222222222,
              "#7201a8"
             ],
             [
              0.3333333333333333,
              "#9c179e"
             ],
             [
              0.4444444444444444,
              "#bd3786"
             ],
             [
              0.5555555555555556,
              "#d8576b"
             ],
             [
              0.6666666666666666,
              "#ed7953"
             ],
             [
              0.7777777777777778,
              "#fb9f3a"
             ],
             [
              0.8888888888888888,
              "#fdca26"
             ],
             [
              1,
              "#f0f921"
             ]
            ],
            "type": "heatmapgl"
           }
          ],
          "histogram": [
           {
            "marker": {
             "pattern": {
              "fillmode": "overlay",
              "size": 10,
              "solidity": 0.2
             }
            },
            "type": "histogram"
           }
          ],
          "histogram2d": [
           {
            "colorbar": {
             "outlinewidth": 0,
             "ticks": ""
            },
            "colorscale": [
             [
              0,
              "#0d0887"
             ],
             [
              0.1111111111111111,
              "#46039f"
             ],
             [
              0.2222222222222222,
              "#7201a8"
             ],
             [
              0.3333333333333333,
              "#9c179e"
             ],
             [
              0.4444444444444444,
              "#bd3786"
             ],
             [
              0.5555555555555556,
              "#d8576b"
             ],
             [
              0.6666666666666666,
              "#ed7953"
             ],
             [
              0.7777777777777778,
              "#fb9f3a"
             ],
             [
              0.8888888888888888,
              "#fdca26"
             ],
             [
              1,
              "#f0f921"
             ]
            ],
            "type": "histogram2d"
           }
          ],
          "histogram2dcontour": [
           {
            "colorbar": {
             "outlinewidth": 0,
             "ticks": ""
            },
            "colorscale": [
             [
              0,
              "#0d0887"
             ],
             [
              0.1111111111111111,
              "#46039f"
             ],
             [
              0.2222222222222222,
              "#7201a8"
             ],
             [
              0.3333333333333333,
              "#9c179e"
             ],
             [
              0.4444444444444444,
              "#bd3786"
             ],
             [
              0.5555555555555556,
              "#d8576b"
             ],
             [
              0.6666666666666666,
              "#ed7953"
             ],
             [
              0.7777777777777778,
              "#fb9f3a"
             ],
             [
              0.8888888888888888,
              "#fdca26"
             ],
             [
              1,
              "#f0f921"
             ]
            ],
            "type": "histogram2dcontour"
           }
          ],
          "mesh3d": [
           {
            "colorbar": {
             "outlinewidth": 0,
             "ticks": ""
            },
            "type": "mesh3d"
           }
          ],
          "parcoords": [
           {
            "line": {
             "colorbar": {
              "outlinewidth": 0,
              "ticks": ""
             }
            },
            "type": "parcoords"
           }
          ],
          "pie": [
           {
            "automargin": true,
            "type": "pie"
           }
          ],
          "scatter": [
           {
            "fillpattern": {
             "fillmode": "overlay",
             "size": 10,
             "solidity": 0.2
            },
            "type": "scatter"
           }
          ],
          "scatter3d": [
           {
            "line": {
             "colorbar": {
              "outlinewidth": 0,
              "ticks": ""
             }
            },
            "marker": {
             "colorbar": {
              "outlinewidth": 0,
              "ticks": ""
             }
            },
            "type": "scatter3d"
           }
          ],
          "scattercarpet": [
           {
            "marker": {
             "colorbar": {
              "outlinewidth": 0,
              "ticks": ""
             }
            },
            "type": "scattercarpet"
           }
          ],
          "scattergeo": [
           {
            "marker": {
             "colorbar": {
              "outlinewidth": 0,
              "ticks": ""
             }
            },
            "type": "scattergeo"
           }
          ],
          "scattergl": [
           {
            "marker": {
             "colorbar": {
              "outlinewidth": 0,
              "ticks": ""
             }
            },
            "type": "scattergl"
           }
          ],
          "scattermapbox": [
           {
            "marker": {
             "colorbar": {
              "outlinewidth": 0,
              "ticks": ""
             }
            },
            "type": "scattermapbox"
           }
          ],
          "scatterpolar": [
           {
            "marker": {
             "colorbar": {
              "outlinewidth": 0,
              "ticks": ""
             }
            },
            "type": "scatterpolar"
           }
          ],
          "scatterpolargl": [
           {
            "marker": {
             "colorbar": {
              "outlinewidth": 0,
              "ticks": ""
             }
            },
            "type": "scatterpolargl"
           }
          ],
          "scatterternary": [
           {
            "marker": {
             "colorbar": {
              "outlinewidth": 0,
              "ticks": ""
             }
            },
            "type": "scatterternary"
           }
          ],
          "surface": [
           {
            "colorbar": {
             "outlinewidth": 0,
             "ticks": ""
            },
            "colorscale": [
             [
              0,
              "#0d0887"
             ],
             [
              0.1111111111111111,
              "#46039f"
             ],
             [
              0.2222222222222222,
              "#7201a8"
             ],
             [
              0.3333333333333333,
              "#9c179e"
             ],
             [
              0.4444444444444444,
              "#bd3786"
             ],
             [
              0.5555555555555556,
              "#d8576b"
             ],
             [
              0.6666666666666666,
              "#ed7953"
             ],
             [
              0.7777777777777778,
              "#fb9f3a"
             ],
             [
              0.8888888888888888,
              "#fdca26"
             ],
             [
              1,
              "#f0f921"
             ]
            ],
            "type": "surface"
           }
          ],
          "table": [
           {
            "cells": {
             "fill": {
              "color": "#EBF0F8"
             },
             "line": {
              "color": "white"
             }
            },
            "header": {
             "fill": {
              "color": "#C8D4E3"
             },
             "line": {
              "color": "white"
             }
            },
            "type": "table"
           }
          ]
         },
         "layout": {
          "annotationdefaults": {
           "arrowcolor": "#2a3f5f",
           "arrowhead": 0,
           "arrowwidth": 1
          },
          "autotypenumbers": "strict",
          "coloraxis": {
           "colorbar": {
            "outlinewidth": 0,
            "ticks": ""
           }
          },
          "colorscale": {
           "diverging": [
            [
             0,
             "#8e0152"
            ],
            [
             0.1,
             "#c51b7d"
            ],
            [
             0.2,
             "#de77ae"
            ],
            [
             0.3,
             "#f1b6da"
            ],
            [
             0.4,
             "#fde0ef"
            ],
            [
             0.5,
             "#f7f7f7"
            ],
            [
             0.6,
             "#e6f5d0"
            ],
            [
             0.7,
             "#b8e186"
            ],
            [
             0.8,
             "#7fbc41"
            ],
            [
             0.9,
             "#4d9221"
            ],
            [
             1,
             "#276419"
            ]
           ],
           "sequential": [
            [
             0,
             "#0d0887"
            ],
            [
             0.1111111111111111,
             "#46039f"
            ],
            [
             0.2222222222222222,
             "#7201a8"
            ],
            [
             0.3333333333333333,
             "#9c179e"
            ],
            [
             0.4444444444444444,
             "#bd3786"
            ],
            [
             0.5555555555555556,
             "#d8576b"
            ],
            [
             0.6666666666666666,
             "#ed7953"
            ],
            [
             0.7777777777777778,
             "#fb9f3a"
            ],
            [
             0.8888888888888888,
             "#fdca26"
            ],
            [
             1,
             "#f0f921"
            ]
           ],
           "sequentialminus": [
            [
             0,
             "#0d0887"
            ],
            [
             0.1111111111111111,
             "#46039f"
            ],
            [
             0.2222222222222222,
             "#7201a8"
            ],
            [
             0.3333333333333333,
             "#9c179e"
            ],
            [
             0.4444444444444444,
             "#bd3786"
            ],
            [
             0.5555555555555556,
             "#d8576b"
            ],
            [
             0.6666666666666666,
             "#ed7953"
            ],
            [
             0.7777777777777778,
             "#fb9f3a"
            ],
            [
             0.8888888888888888,
             "#fdca26"
            ],
            [
             1,
             "#f0f921"
            ]
           ]
          },
          "colorway": [
           "#636efa",
           "#EF553B",
           "#00cc96",
           "#ab63fa",
           "#FFA15A",
           "#19d3f3",
           "#FF6692",
           "#B6E880",
           "#FF97FF",
           "#FECB52"
          ],
          "font": {
           "color": "#2a3f5f"
          },
          "geo": {
           "bgcolor": "white",
           "lakecolor": "white",
           "landcolor": "#E5ECF6",
           "showlakes": true,
           "showland": true,
           "subunitcolor": "white"
          },
          "hoverlabel": {
           "align": "left"
          },
          "hovermode": "closest",
          "mapbox": {
           "style": "light"
          },
          "paper_bgcolor": "white",
          "plot_bgcolor": "#E5ECF6",
          "polar": {
           "angularaxis": {
            "gridcolor": "white",
            "linecolor": "white",
            "ticks": ""
           },
           "bgcolor": "#E5ECF6",
           "radialaxis": {
            "gridcolor": "white",
            "linecolor": "white",
            "ticks": ""
           }
          },
          "scene": {
           "xaxis": {
            "backgroundcolor": "#E5ECF6",
            "gridcolor": "white",
            "gridwidth": 2,
            "linecolor": "white",
            "showbackground": true,
            "ticks": "",
            "zerolinecolor": "white"
           },
           "yaxis": {
            "backgroundcolor": "#E5ECF6",
            "gridcolor": "white",
            "gridwidth": 2,
            "linecolor": "white",
            "showbackground": true,
            "ticks": "",
            "zerolinecolor": "white"
           },
           "zaxis": {
            "backgroundcolor": "#E5ECF6",
            "gridcolor": "white",
            "gridwidth": 2,
            "linecolor": "white",
            "showbackground": true,
            "ticks": "",
            "zerolinecolor": "white"
           }
          },
          "shapedefaults": {
           "line": {
            "color": "#2a3f5f"
           }
          },
          "ternary": {
           "aaxis": {
            "gridcolor": "white",
            "linecolor": "white",
            "ticks": ""
           },
           "baxis": {
            "gridcolor": "white",
            "linecolor": "white",
            "ticks": ""
           },
           "bgcolor": "#E5ECF6",
           "caxis": {
            "gridcolor": "white",
            "linecolor": "white",
            "ticks": ""
           }
          },
          "title": {
           "x": 0.05
          },
          "xaxis": {
           "automargin": true,
           "gridcolor": "white",
           "linecolor": "white",
           "ticks": "",
           "title": {
            "standoff": 15
           },
           "zerolinecolor": "white",
           "zerolinewidth": 2
          },
          "yaxis": {
           "automargin": true,
           "gridcolor": "white",
           "linecolor": "white",
           "ticks": "",
           "title": {
            "standoff": 15
           },
           "zerolinecolor": "white",
           "zerolinewidth": 2
          }
         }
        }
       }
      }
     },
     "metadata": {},
     "output_type": "display_data"
    }
   ],
   "source": [
    "px.parallel_coordinates(results_df, color='best_fitness', labels=['mutation_delta', 'mutation_prob', 'copy_top_perc', 'sample_top_n', 'best_fitness'])"
   ]
  },
  {
   "attachments": {},
   "cell_type": "markdown",
   "metadata": {},
   "source": [
    "## Run full optimization "
   ]
  },
  {
   "attachments": {},
   "cell_type": "markdown",
   "metadata": {},
   "source": [
    "### 4 Dots"
   ]
  },
  {
   "cell_type": "code",
   "execution_count": 12,
   "metadata": {},
   "outputs": [
    {
     "data": {
      "application/vnd.jupyter.widget-view+json": {
       "model_id": "e33fd14f9e7545dd8805732aa0b0860f",
       "version_major": 2,
       "version_minor": 0
      },
      "text/plain": [
       "Output()"
      ]
     },
     "metadata": {},
     "output_type": "display_data"
    },
    {
     "data": {
      "application/vnd.jupyter.widget-view+json": {
       "model_id": "1c74741f1f444d50bde3960afcbea9b4",
       "version_major": 2,
       "version_minor": 0
      },
      "text/plain": [
       "  0%|          | 0/500 [00:00<?, ?it/s]"
      ]
     },
     "metadata": {},
     "output_type": "display_data"
    }
   ],
   "source": [
    "pop = Population(target=TARGET, popsize=100, mutation_delta=0.04, mutation_prob=0.4, copy_top_perc=0.04, sample_top_n=0.4, stop_threshold=0.01)\n",
    "pop.optimize(epochs=500, plot_frequency=20, name='4dots', show=True, plot=True)"
   ]
  },
  {
   "attachments": {},
   "cell_type": "markdown",
   "metadata": {},
   "source": [
    "![training gif](../img/4dots/training.gif)"
   ]
  },
  {
   "cell_type": "code",
   "execution_count": 7,
   "metadata": {},
   "outputs": [
    {
     "data": {
      "text/plain": [
       "<matplotlib.image.AxesImage at 0x7f9ecbcdd340>"
      ]
     },
     "execution_count": 7,
     "metadata": {},
     "output_type": "execute_result"
    },
    {
     "data": {
      "image/png": "[encoded data removed]",
      "text/plain": [
       "<Figure size 432x288 with 1 Axes>"
      ]
     },
     "metadata": {},
     "output_type": "display_data"
    }
   ],
   "source": [
    "TARGET = np.arange(0, 1, 0.0001).reshape((100, 100))\n",
    "plt.imshow(TARGET)"
   ]
  },
  {
   "cell_type": "code",
   "execution_count": 8,
   "metadata": {},
   "outputs": [
    {
     "data": {
      "application/vnd.jupyter.widget-view+json": {
       "model_id": "64d4ae227f534aa580e4e3a796ed0380",
       "version_major": 2,
       "version_minor": 0
      },
      "text/plain": [
       "Output()"
      ]
     },
     "metadata": {},
     "output_type": "display_data"
    },
    {
     "data": {
      "application/vnd.jupyter.widget-view+json": {
       "model_id": "8582b231a1054e49a10b41d51d3cf211",
       "version_major": 2,
       "version_minor": 0
      },
      "text/plain": [
       "  0%|          | 0/500 [00:00<?, ?it/s]"
      ]
     },
     "metadata": {},
     "output_type": "display_data"
    }
   ],
   "source": [
    "pop = Population(target=TARGET, popsize=100, mutation_delta=0.02, mutation_prob=1, copy_top_perc=0.1, sample_top_n=0.4, stop_threshold=-1)\n",
    "pop.optimize(epochs=500, plot_frequency=20, name='gradient', show=True, plot=True)"
   ]
  },
  {
   "cell_type": "code",
   "execution_count": 42,
   "metadata": {},
   "outputs": [
    {
     "data": {
      "text/plain": [
       "[<matplotlib.lines.Line2D at 0x7f9f5ef93e20>]"
      ]
     },
     "execution_count": 42,
     "metadata": {},
     "output_type": "execute_result"
    },
    {
     "data": {
      "image/png": "[encoded data removed]",
      "text/plain": [
       "<Figure size 432x288 with 1 Axes>"
      ]
     },
     "metadata": {},
     "output_type": "display_data"
    }
   ],
   "source": [
    "target = np.random.rand(20, 20, 3)\n",
    "loss = []\n",
    "ind = PixelIndividual(shape=(20, 20, 3), mutate_prob=1, mutate_change=0.01)\n",
    "for i in range(1000):\n",
    "    ind.mutate()\n",
    "    ind.compute_fitness(target=target)\n",
    "    loss.append(ind.fitness)\n",
    "plt.plot(loss)"
   ]
  },
  {
   "cell_type": "code",
   "execution_count": 25,
   "metadata": {},
   "outputs": [
    {
     "data": {
      "text/plain": [
       "array([[0.5, 0.5, 0.5, 0.5, 0.5, 0.5, 0.5, 0.5, 0.5, 0.5],\n",
       "       [0.5, 0.5, 0.5, 0.5, 0.5, 0.5, 0.5, 0.5, 0.5, 0.5],\n",
       "       [0.5, 0.5, 0.5, 0.5, 0.5, 0.5, 0.5, 0.5, 0.5, 0.5],\n",
       "       [0.5, 0.5, 0.5, 0.5, 0.5, 0.5, 0.5, 0.5, 0.5, 0.5],\n",
       "       [0.5, 0.5, 0.5, 0.5, 0.5, 0.5, 0.5, 0.5, 0.5, 0.5],\n",
       "       [0.5, 0.5, 0.5, 0.5, 0.5, 0.5, 0.5, 0.5, 0.5, 0.5],\n",
       "       [0.5, 0.5, 0.5, 0.5, 0.5, 0.5, 0.5, 0.5, 0.5, 0.5],\n",
       "       [0.5, 0.5, 0.5, 0.5, 0.5, 0.5, 0.5, 0.5, 0.5, 0.5],\n",
       "       [0.5, 0.5, 0.5, 0.5, 0.5, 0.5, 0.5, 0.5, 0.5, 0.5],\n",
       "       [0.5, 0.5, 0.5, 0.5, 0.5, 0.5, 0.5, 0.5, 0.5, 0.5]])"
      ]
     },
     "execution_count": 25,
     "metadata": {},
     "output_type": "execute_result"
    }
   ],
   "source": [
    "t = np.ones(shape=(10, 10)) * 0.5\n",
    "t"
   ]
  },
  {
   "cell_type": "code",
   "execution_count": 73,
   "metadata": {},
   "outputs": [
    {
     "data": {
      "text/plain": [
       "0.5"
      ]
     },
     "execution_count": 73,
     "metadata": {},
     "output_type": "execute_result"
    }
   ],
   "source": [
    "base = np.zeros(shape=(10, 10))\n",
    "abs(base-t).mean()"
   ]
  },
  {
   "cell_type": "code",
   "execution_count": 75,
   "metadata": {},
   "outputs": [
    {
     "data": {
      "text/plain": [
       "array([[0.016, 0.016, 0.   , 0.   , 0.004, 0.   , 0.   , 0.005, 0.   ,\n",
       "        0.   ],\n",
       "       [0.016, 0.   , 0.016, 0.015, 0.   , 0.003, 0.   , 0.   , 0.004,\n",
       "        0.025],\n",
       "       [0.027, 0.   , 0.   , 0.003, 0.   , 0.   , 0.   , 0.   , 0.005,\n",
       "        0.043],\n",
       "       [0.   , 0.022, 0.   , 0.036, 0.   , 0.   , 0.002, 0.   , 0.   ,\n",
       "        0.035],\n",
       "       [0.   , 0.   , 0.   , 0.   , 0.   , 0.   , 0.   , 0.005, 0.   ,\n",
       "        0.023],\n",
       "       [0.007, 0.   , 0.03 , 0.01 , 0.009, 0.016, 0.035, 0.011, 0.003,\n",
       "        0.   ],\n",
       "       [0.   , 0.   , 0.   , 0.   , 0.001, 0.007, 0.005, 0.034, 0.023,\n",
       "        0.028],\n",
       "       [0.   , 0.   , 0.   , 0.004, 0.027, 0.   , 0.027, 0.   , 0.   ,\n",
       "        0.017],\n",
       "       [0.   , 0.001, 0.   , 0.003, 0.   , 0.   , 0.035, 0.   , 0.   ,\n",
       "        0.009],\n",
       "       [0.001, 0.019, 0.   , 0.037, 0.006, 0.003, 0.035, 0.02 , 0.005,\n",
       "        0.   ]])"
      ]
     },
     "execution_count": 75,
     "metadata": {},
     "output_type": "execute_result"
    }
   ],
   "source": [
    "k = ((np.random.rand(10, 10) * 0.05) - (0.05 / 2))\n",
    "base = np.clip(base + k, a_min=0, a_max=1)\n",
    "l = abs(base - t).mean()\n",
    "base"
   ]
  },
  {
   "cell_type": "code",
   "execution_count": 83,
   "metadata": {},
   "outputs": [
    {
     "data": {
      "text/plain": [
       "0.0025000000000000005"
      ]
     },
     "execution_count": 83,
     "metadata": {},
     "output_type": "execute_result"
    }
   ],
   "source": [
    "0.05*0.05"
   ]
  },
  {
   "cell_type": "code",
   "execution_count": 87,
   "metadata": {},
   "outputs": [
    {
     "data": {
      "text/plain": [
       "0.014236010663782371"
      ]
     },
     "execution_count": 87,
     "metadata": {},
     "output_type": "execute_result"
    }
   ],
   "source": [
    "k.std()"
   ]
  },
  {
   "cell_type": "code",
   "execution_count": null,
   "metadata": {},
   "outputs": [],
   "source": []
  },
  {
   "cell_type": "code",
   "execution_count": 163,
   "metadata": {},
   "outputs": [
    {
     "data": {
      "text/plain": [
       "(array([  13.,  130.,  520., 1463., 2603., 2720., 1700.,  665.,  157.,\n",
       "          29.]),\n",
       " array([-0.183, -0.147, -0.111, -0.075, -0.04 , -0.004,  0.032,  0.068,\n",
       "         0.104,  0.139,  0.175]),\n",
       " <BarContainer object of 10 artists>)"
      ]
     },
     "execution_count": 163,
     "metadata": {},
     "output_type": "execute_result"
    },
    {
     "data": {
      "image/png": "[encoded data removed]",
      "text/plain": [
       "<Figure size 432x288 with 1 Axes>"
      ]
     },
     "metadata": {},
     "output_type": "display_data"
    }
   ],
   "source": [
    "plt.hist(np.random.normal(size=shape).reshape(-1) * 0.05)"
   ]
  },
  {
   "cell_type": "code",
   "execution_count": 165,
   "metadata": {},
   "outputs": [
    {
     "data": {
      "image/png": "[encoded data removed]",
      "text/plain": [
       "<Figure size 432x288 with 1 Axes>"
      ]
     },
     "metadata": {},
     "output_type": "display_data"
    },
    {
     "data": {
      "text/plain": [
       "(array([1017., 1008., 1032.,  984.,  994.,  994.,  990.,  996.,  959.,\n",
       "        1026.]),\n",
       " array([0. , 0.1, 0.2, 0.3, 0.4, 0.5, 0.6, 0.7, 0.8, 0.9, 1. ]),\n",
       " <BarContainer object of 10 artists>)"
      ]
     },
     "execution_count": 165,
     "metadata": {},
     "output_type": "execute_result"
    },
    {
     "data": {
      "image/png": "[encoded data removed]",
      "text/plain": [
       "<Figure size 432x288 with 1 Axes>"
      ]
     },
     "metadata": {},
     "output_type": "display_data"
    }
   ],
   "source": [
    "vals = []\n",
    "means = []\n",
    "shape = (100, 100)\n",
    "f = 0.01\n",
    "t = np.ones(shape=shape) / 2\n",
    "base = np.zeros(shape=shape)\n",
    "for i in range(100000):\n",
    "    k = ((np.random.normal(size=shape) * f))\n",
    "    # plt.hist(k.reshape(-1))\n",
    "    base = np.clip(base + k, a_min=0, a_max=1)\n",
    "    # base += k\n",
    "    means.append(base.mean())\n",
    "    l = abs(base - t).mean()\n",
    "    vals.append(l)\n",
    "plt.plot(vals)\n",
    "# plt.plot(means)\n",
    "plt.show()\n",
    "np.mean(vals)\n",
    "plt.hist(base.reshape(-1))"
   ]
  },
  {
   "cell_type": "code",
   "execution_count": 8,
   "metadata": {},
   "outputs": [
    {
     "data": {
      "text/plain": [
       "array([[0.146, 0.134, 1.   , ..., 0.911, 0.208, 1.   ],\n",
       "       [0.718, 0.308, 1.   , ..., 0.804, 0.83 , 0.215],\n",
       "       [0.595, 0.896, 0.122, ..., 0.085, 0.33 , 0.192],\n",
       "       ...,\n",
       "       [0.871, 1.   , 1.   , ..., 0.677, 0.241, 0.096],\n",
       "       [0.671, 0.445, 0.368, ..., 0.917, 0.707, 0.122],\n",
       "       [0.466, 0.597, 1.   , ..., 0.884, 0.715, 0.303]], dtype=float32)"
      ]
     },
     "execution_count": 8,
     "metadata": {},
     "output_type": "execute_result"
    }
   ],
   "source": [
    "pop.pop[0].genes"
   ]
  },
  {
   "cell_type": "code",
   "execution_count": 6,
   "metadata": {},
   "outputs": [
    {
     "name": "stdout",
     "output_type": "stream",
     "text": [
      "[PixelIndividual(shape=(100, 100), fitness=855.5305), PixelIndividual(shape=(100, 100), fitness=862.8768), PixelIndividual(shape=(100, 100), fitness=862.8861)]\n",
      "[PixelIndividual(shape=(100, 100), fitness=888.1972), PixelIndividual(shape=(100, 100), fitness=891.9923), PixelIndividual(shape=(100, 100), fitness=892.2069)]\n",
      "[PixelIndividual(shape=(100, 100), fitness=903.1850), PixelIndividual(shape=(100, 100), fitness=909.1821), PixelIndividual(shape=(100, 100), fitness=909.9819)]\n",
      "[PixelIndividual(shape=(100, 100), fitness=922.9867), PixelIndividual(shape=(100, 100), fitness=925.3957), PixelIndividual(shape=(100, 100), fitness=926.6624)]\n",
      "[PixelIndividual(shape=(100, 100), fitness=927.3484), PixelIndividual(shape=(100, 100), fitness=929.1606), PixelIndividual(shape=(100, 100), fitness=932.4565)]\n",
      "[PixelIndividual(shape=(100, 100), fitness=939.0807), PixelIndividual(shape=(100, 100), fitness=939.1428), PixelIndividual(shape=(100, 100), fitness=941.0378)]\n",
      "[PixelIndividual(shape=(100, 100), fitness=951.2848), PixelIndividual(shape=(100, 100), fitness=951.8568), PixelIndividual(shape=(100, 100), fitness=956.5147)]\n",
      "[PixelIndividual(shape=(100, 100), fitness=958.6244), PixelIndividual(shape=(100, 100), fitness=960.6494), PixelIndividual(shape=(100, 100), fitness=961.5580)]\n",
      "[PixelIndividual(shape=(100, 100), fitness=965.9954), PixelIndividual(shape=(100, 100), fitness=966.8385), PixelIndividual(shape=(100, 100), fitness=967.1695)]\n",
      "[PixelIndividual(shape=(100, 100), fitness=971.1535), PixelIndividual(shape=(100, 100), fitness=971.6827), PixelIndividual(shape=(100, 100), fitness=972.4753)]\n",
      "[PixelIndividual(shape=(100, 100), fitness=970.9737), PixelIndividual(shape=(100, 100), fitness=977.5481), PixelIndividual(shape=(100, 100), fitness=978.8465)]\n",
      "[PixelIndividual(shape=(100, 100), fitness=981.3052), PixelIndividual(shape=(100, 100), fitness=983.7280), PixelIndividual(shape=(100, 100), fitness=985.5093)]\n",
      "[PixelIndividual(shape=(100, 100), fitness=985.7534), PixelIndividual(shape=(100, 100), fitness=986.3724), PixelIndividual(shape=(100, 100), fitness=989.3307)]\n",
      "[PixelIndividual(shape=(100, 100), fitness=986.7620), PixelIndividual(shape=(100, 100), fitness=991.3473), PixelIndividual(shape=(100, 100), fitness=991.8940)]\n",
      "[PixelIndividual(shape=(100, 100), fitness=988.7444), PixelIndividual(shape=(100, 100), fitness=992.4830), PixelIndividual(shape=(100, 100), fitness=993.9985)]\n",
      "[PixelIndividual(shape=(100, 100), fitness=991.3819), PixelIndividual(shape=(100, 100), fitness=992.8055), PixelIndividual(shape=(100, 100), fitness=994.2878)]\n",
      "[PixelIndividual(shape=(100, 100), fitness=978.2819), PixelIndividual(shape=(100, 100), fitness=995.4427), PixelIndividual(shape=(100, 100), fitness=997.9845)]\n",
      "[PixelIndividual(shape=(100, 100), fitness=982.4233), PixelIndividual(shape=(100, 100), fitness=994.9926), PixelIndividual(shape=(100, 100), fitness=996.2409)]\n",
      "[PixelIndividual(shape=(100, 100), fitness=983.6672), PixelIndividual(shape=(100, 100), fitness=993.7659), PixelIndividual(shape=(100, 100), fitness=995.4833)]\n",
      "[PixelIndividual(shape=(100, 100), fitness=991.2033), PixelIndividual(shape=(100, 100), fitness=995.8193), PixelIndividual(shape=(100, 100), fitness=998.6730)]\n",
      "[PixelIndividual(shape=(100, 100), fitness=994.4562), PixelIndividual(shape=(100, 100), fitness=994.7204), PixelIndividual(shape=(100, 100), fitness=995.7898)]\n",
      "[PixelIndividual(shape=(100, 100), fitness=991.3318), PixelIndividual(shape=(100, 100), fitness=994.1803), PixelIndividual(shape=(100, 100), fitness=996.6514)]\n",
      "[PixelIndividual(shape=(100, 100), fitness=990.4222), PixelIndividual(shape=(100, 100), fitness=997.3462), PixelIndividual(shape=(100, 100), fitness=998.9684)]\n",
      "[PixelIndividual(shape=(100, 100), fitness=998.4082), PixelIndividual(shape=(100, 100), fitness=1000.1606), PixelIndividual(shape=(100, 100), fitness=1000.3970)]\n",
      "[PixelIndividual(shape=(100, 100), fitness=996.6296), PixelIndividual(shape=(100, 100), fitness=998.0965), PixelIndividual(shape=(100, 100), fitness=999.6599)]\n",
      "[PixelIndividual(shape=(100, 100), fitness=994.7177), PixelIndividual(shape=(100, 100), fitness=996.9534), PixelIndividual(shape=(100, 100), fitness=997.3348)]\n",
      "[PixelIndividual(shape=(100, 100), fitness=989.4360), PixelIndividual(shape=(100, 100), fitness=989.9691), PixelIndividual(shape=(100, 100), fitness=994.2707)]\n",
      "[PixelIndividual(shape=(100, 100), fitness=994.3032), PixelIndividual(shape=(100, 100), fitness=995.5215), PixelIndividual(shape=(100, 100), fitness=997.9800)]\n",
      "[PixelIndividual(shape=(100, 100), fitness=990.0112), PixelIndividual(shape=(100, 100), fitness=990.0276), PixelIndividual(shape=(100, 100), fitness=996.3538)]\n",
      "[PixelIndividual(shape=(100, 100), fitness=992.3524), PixelIndividual(shape=(100, 100), fitness=993.4832), PixelIndividual(shape=(100, 100), fitness=994.3714)]\n",
      "[PixelIndividual(shape=(100, 100), fitness=991.2569), PixelIndividual(shape=(100, 100), fitness=991.9500), PixelIndividual(shape=(100, 100), fitness=994.1706)]\n",
      "[PixelIndividual(shape=(100, 100), fitness=993.5296), PixelIndividual(shape=(100, 100), fitness=997.0044), PixelIndividual(shape=(100, 100), fitness=999.0633)]\n",
      "[PixelIndividual(shape=(100, 100), fitness=992.5576), PixelIndividual(shape=(100, 100), fitness=1001.4215), PixelIndividual(shape=(100, 100), fitness=1001.5523)]\n",
      "[PixelIndividual(shape=(100, 100), fitness=989.4028), PixelIndividual(shape=(100, 100), fitness=998.0320), PixelIndividual(shape=(100, 100), fitness=998.6160)]\n",
      "[PixelIndividual(shape=(100, 100), fitness=990.8509), PixelIndividual(shape=(100, 100), fitness=996.5586), PixelIndividual(shape=(100, 100), fitness=998.6786)]\n",
      "[PixelIndividual(shape=(100, 100), fitness=991.4078), PixelIndividual(shape=(100, 100), fitness=992.6459), PixelIndividual(shape=(100, 100), fitness=997.4126)]\n",
      "[PixelIndividual(shape=(100, 100), fitness=991.4745), PixelIndividual(shape=(100, 100), fitness=992.3364), PixelIndividual(shape=(100, 100), fitness=996.6565)]\n",
      "[PixelIndividual(shape=(100, 100), fitness=994.5275), PixelIndividual(shape=(100, 100), fitness=994.5398), PixelIndividual(shape=(100, 100), fitness=999.1277)]\n",
      "[PixelIndividual(shape=(100, 100), fitness=990.1857), PixelIndividual(shape=(100, 100), fitness=994.9454), PixelIndividual(shape=(100, 100), fitness=1001.5191)]\n",
      "[PixelIndividual(shape=(100, 100), fitness=987.2451), PixelIndividual(shape=(100, 100), fitness=993.7232), PixelIndividual(shape=(100, 100), fitness=999.9796)]\n",
      "[PixelIndividual(shape=(100, 100), fitness=989.0524), PixelIndividual(shape=(100, 100), fitness=995.4315), PixelIndividual(shape=(100, 100), fitness=999.6568)]\n",
      "[PixelIndividual(shape=(100, 100), fitness=990.6847), PixelIndividual(shape=(100, 100), fitness=1000.7472), PixelIndividual(shape=(100, 100), fitness=1002.5804)]\n",
      "[PixelIndividual(shape=(100, 100), fitness=998.0980), PixelIndividual(shape=(100, 100), fitness=1000.7449), PixelIndividual(shape=(100, 100), fitness=1002.9498)]\n",
      "[PixelIndividual(shape=(100, 100), fitness=999.9393), PixelIndividual(shape=(100, 100), fitness=1003.6469), PixelIndividual(shape=(100, 100), fitness=1004.3625)]\n",
      "[PixelIndividual(shape=(100, 100), fitness=1000.3826), PixelIndividual(shape=(100, 100), fitness=1003.0068), PixelIndividual(shape=(100, 100), fitness=1003.4352)]\n",
      "[PixelIndividual(shape=(100, 100), fitness=998.0592), PixelIndividual(shape=(100, 100), fitness=1004.0473), PixelIndividual(shape=(100, 100), fitness=1004.7273)]\n",
      "[PixelIndividual(shape=(100, 100), fitness=996.9813), PixelIndividual(shape=(100, 100), fitness=997.5561), PixelIndividual(shape=(100, 100), fitness=1001.5247)]\n",
      "[PixelIndividual(shape=(100, 100), fitness=997.1244), PixelIndividual(shape=(100, 100), fitness=1000.2196), PixelIndividual(shape=(100, 100), fitness=1003.2194)]\n",
      "[PixelIndividual(shape=(100, 100), fitness=992.9751), PixelIndividual(shape=(100, 100), fitness=998.8690), PixelIndividual(shape=(100, 100), fitness=1002.7168)]\n",
      "[PixelIndividual(shape=(100, 100), fitness=998.3182), PixelIndividual(shape=(100, 100), fitness=998.4140), PixelIndividual(shape=(100, 100), fitness=999.3986)]\n"
     ]
    },
    {
     "data": {
      "text/plain": [
       "[<matplotlib.lines.Line2D at 0x7fcd8b9d79a0>]"
      ]
     },
     "execution_count": 6,
     "metadata": {},
     "output_type": "execute_result"
    },
    {
     "data": {
      "image/png": "[encoded data removed]",
      "text/plain": [
       "<Figure size 432x288 with 1 Axes>"
      ]
     },
     "metadata": {},
     "output_type": "display_data"
    }
   ],
   "source": [
    "from copy import deepcopy\n",
    "t = np.ones(shape=(100, 100)) * 0.5\n",
    "pop = Population(target=t, popsize=30, mutation_delta=0.1, mutation_prob=1, copy_top_perc=0, sample_top_n=0.5, stop_threshold=0.01)\n",
    "# pop.pop = [deepcopy(pop.pop[0]) for i in range(30)]\n",
    "min_loss = []\n",
    "for i in range(50):\n",
    "    pop.mutate_pop()\n",
    "    pop.calculate_fitness()\n",
    "    pop.sort_population()\n",
    "    print(pop.pop[:3])\n",
    "    min_loss.append(pop.get_best().fitness)\n",
    "plt.plot(min_loss)"
   ]
  },
  {
   "cell_type": "code",
   "execution_count": 9,
   "metadata": {},
   "outputs": [
    {
     "data": {
      "text/plain": [
       "<matplotlib.image.AxesImage at 0x7f9ecc29af70>"
      ]
     },
     "execution_count": 9,
     "metadata": {},
     "output_type": "execute_result"
    },
    {
     "data": {
      "image/png": "[encoded data removed]",
      "text/plain": [
       "<Figure size 432x288 with 1 Axes>"
      ]
     },
     "metadata": {},
     "output_type": "display_data"
    }
   ],
   "source": [
    "TARGET = image.imread('../targets/mario.png')\n",
    "# TARGET = (TARGET[..., :3] * 256)\n",
    "TARGET = cv2.resize(TARGET, (200, 300))\n",
    "plt.imshow(TARGET)"
   ]
  },
  {
   "cell_type": "code",
   "execution_count": 20,
   "metadata": {},
   "outputs": [
    {
     "data": {
      "application/vnd.jupyter.widget-view+json": {
       "model_id": "ba2e5c9de383459993ef9f0e06989253",
       "version_major": 2,
       "version_minor": 0
      },
      "text/plain": [
       "Output()"
      ]
     },
     "metadata": {},
     "output_type": "display_data"
    },
    {
     "data": {
      "application/vnd.jupyter.widget-view+json": {
       "model_id": "4c2bd830620c46b0bfebf8983d3619ff",
       "version_major": 2,
       "version_minor": 0
      },
      "text/plain": [
       "  0%|          | 0/500 [00:00<?, ?it/s]"
      ]
     },
     "metadata": {},
     "output_type": "display_data"
    }
   ],
   "source": [
    "pop = Population(target=TARGET, popsize=100, mutation_delta=0.3, mutation_prob=0.4, copy_top_perc=0.1, sample_top_n=0.4, stop_threshold=-1)\n",
    "pop.optimize(epochs=15000, plot_frequency=20, name='mario', show=True, plot=True)"
   ]
  },
  {
   "cell_type": "code",
   "execution_count": 13,
   "metadata": {},
   "outputs": [
    {
     "name": "stdout",
     "output_type": "stream",
     "text": [
      "Image saved at img/gradient/training.gif.\n"
     ]
    }
   ],
   "source": [
    "create_gif('img/gradient/iters', fp_out='img/gradient/training.gif')"
   ]
  },
  {
   "cell_type": "code",
   "execution_count": 12,
   "metadata": {},
   "outputs": [
    {
     "name": "stdout",
     "output_type": "stream",
     "text": [
      "Image saved at ../polygon/img/rick_polygons/training_gif.gif.\n"
     ]
    }
   ],
   "source": [
    "create_gif('../polygon/img/rick_polygons/iters', fp_out='../polygon/img/rick_polygons/training_gif.gif')"
   ]
  }
 ],
 "metadata": {
  "kernelspec": {
   "display_name": "base",
   "language": "python",
   "name": "python3"
  },
  "language_info": {
   "codemirror_mode": {
    "name": "ipython",
    "version": 3
   },
   "file_extension": ".py",
   "mimetype": "text/x-python",
   "name": "python",
   "nbconvert_exporter": "python",
   "pygments_lexer": "ipython3",
   "version": "3.8.8"
  },
  "orig_nbformat": 4,
  "vscode": {
   "interpreter": {
    "hash": "c38f211982bd679d5ca5d79a71d7517c654455bae4af5c30a3c557803a2cce89"
   }
  }
 },
 "nbformat": 4,
 "nbformat_minor": 2
}
